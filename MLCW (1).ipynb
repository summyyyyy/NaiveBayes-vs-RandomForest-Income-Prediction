{
  "nbformat": 4,
  "nbformat_minor": 0,
  "metadata": {
    "colab": {
      "provenance": []
    },
    "kernelspec": {
      "name": "python3",
      "display_name": "Python 3"
    },
    "language_info": {
      "name": "python"
    }
  },
  "cells": [
    {
      "cell_type": "markdown",
      "source": [
        "Load dataset"
      ],
      "metadata": {
        "id": "27bMCD6mllLS"
      }
    },
    {
      "cell_type": "code",
      "execution_count": 564,
      "metadata": {
        "colab": {
          "base_uri": "https://localhost:8080/"
        },
        "id": "MCfXCdfBCzmQ",
        "outputId": "af1cf358-efed-45b1-f9b6-c5a171e36424"
      },
      "outputs": [
        {
          "output_type": "stream",
          "name": "stdout",
          "text": [
            "Requirement already satisfied: ucimlrepo in /usr/local/lib/python3.10/dist-packages (0.0.6)\n"
          ]
        }
      ],
      "source": [
        "pip install ucimlrepo"
      ]
    },
    {
      "cell_type": "code",
      "source": [
        "from ucimlrepo import fetch_ucirepo\n",
        "\n",
        "# fetch dataset\n",
        "adult = fetch_ucirepo(id=2)\n",
        "\n",
        "# data (as pandas dataframes)\n",
        "X = adult.data.features\n",
        "y = adult.data.targets\n",
        "\n",
        "# metadata\n",
        "print(\"Meta Data\\n\",adult.metadata)\n",
        "\n",
        "# variable information\n",
        "print(\"Variables\\n\",adult.variables)"
      ],
      "metadata": {
        "colab": {
          "base_uri": "https://localhost:8080/"
        },
        "id": "SAKv-mABEkCI",
        "outputId": "2e4ecdc5-0029-4cb5-ca6d-3286451b5dd4"
      },
      "execution_count": 565,
      "outputs": [
        {
          "output_type": "stream",
          "name": "stdout",
          "text": [
            "Meta Data\n",
            " {'uci_id': 2, 'name': 'Adult', 'repository_url': 'https://archive.ics.uci.edu/dataset/2/adult', 'data_url': 'https://archive.ics.uci.edu/static/public/2/data.csv', 'abstract': 'Predict whether income exceeds $50K/yr based on census data. Also known as \"Census Income\" dataset. ', 'area': 'Social Science', 'tasks': ['Classification'], 'characteristics': ['Multivariate'], 'num_instances': 48842, 'num_features': 14, 'feature_types': ['Categorical', 'Integer'], 'demographics': ['Age', 'Income', 'Education Level', 'Other', 'Race', 'Sex'], 'target_col': ['income'], 'index_col': None, 'has_missing_values': 'yes', 'missing_values_symbol': 'NaN', 'year_of_dataset_creation': 1996, 'last_updated': 'Mon Aug 07 2023', 'dataset_doi': '10.24432/C5XW20', 'creators': ['Barry Becker', 'Ronny Kohavi'], 'intro_paper': None, 'additional_info': {'summary': 'Extraction was done by Barry Becker from the 1994 Census database.  A set of reasonably clean records was extracted using the following conditions: ((AAGE>16) && (AGI>100) && (AFNLWGT>1)&& (HRSWK>0))\\r\\n\\r\\nPrediction task is to determine whether a person makes over 50K a year.\\r\\n', 'purpose': None, 'funded_by': None, 'instances_represent': None, 'recommended_data_splits': None, 'sensitive_data': None, 'preprocessing_description': None, 'variable_info': 'Listing of attributes:\\r\\n\\r\\n>50K, <=50K.\\r\\n\\r\\nage: continuous.\\r\\nworkclass: Private, Self-emp-not-inc, Self-emp-inc, Federal-gov, Local-gov, State-gov, Without-pay, Never-worked.\\r\\nfnlwgt: continuous.\\r\\neducation: Bachelors, Some-college, 11th, HS-grad, Prof-school, Assoc-acdm, Assoc-voc, 9th, 7th-8th, 12th, Masters, 1st-4th, 10th, Doctorate, 5th-6th, Preschool.\\r\\neducation-num: continuous.\\r\\nmarital-status: Married-civ-spouse, Divorced, Never-married, Separated, Widowed, Married-spouse-absent, Married-AF-spouse.\\r\\noccupation: Tech-support, Craft-repair, Other-service, Sales, Exec-managerial, Prof-specialty, Handlers-cleaners, Machine-op-inspct, Adm-clerical, Farming-fishing, Transport-moving, Priv-house-serv, Protective-serv, Armed-Forces.\\r\\nrelationship: Wife, Own-child, Husband, Not-in-family, Other-relative, Unmarried.\\r\\nrace: White, Asian-Pac-Islander, Amer-Indian-Eskimo, Other, Black.\\r\\nsex: Female, Male.\\r\\ncapital-gain: continuous.\\r\\ncapital-loss: continuous.\\r\\nhours-per-week: continuous.\\r\\nnative-country: United-States, Cambodia, England, Puerto-Rico, Canada, Germany, Outlying-US(Guam-USVI-etc), India, Japan, Greece, South, China, Cuba, Iran, Honduras, Philippines, Italy, Poland, Jamaica, Vietnam, Mexico, Portugal, Ireland, France, Dominican-Republic, Laos, Ecuador, Taiwan, Haiti, Columbia, Hungary, Guatemala, Nicaragua, Scotland, Thailand, Yugoslavia, El-Salvador, Trinadad&Tobago, Peru, Hong, Holand-Netherlands.', 'citation': None}}\n",
            "Variables\n",
            "               name     role         type      demographic  \\\n",
            "0              age  Feature      Integer              Age   \n",
            "1        workclass  Feature  Categorical           Income   \n",
            "2           fnlwgt  Feature      Integer             None   \n",
            "3        education  Feature  Categorical  Education Level   \n",
            "4    education-num  Feature      Integer  Education Level   \n",
            "5   marital-status  Feature  Categorical            Other   \n",
            "6       occupation  Feature  Categorical            Other   \n",
            "7     relationship  Feature  Categorical            Other   \n",
            "8             race  Feature  Categorical             Race   \n",
            "9              sex  Feature       Binary              Sex   \n",
            "10    capital-gain  Feature      Integer             None   \n",
            "11    capital-loss  Feature      Integer             None   \n",
            "12  hours-per-week  Feature      Integer             None   \n",
            "13  native-country  Feature  Categorical            Other   \n",
            "14          income   Target       Binary           Income   \n",
            "\n",
            "                                          description units missing_values  \n",
            "0                                                 N/A  None             no  \n",
            "1   Private, Self-emp-not-inc, Self-emp-inc, Feder...  None            yes  \n",
            "2                                                None  None             no  \n",
            "3    Bachelors, Some-college, 11th, HS-grad, Prof-...  None             no  \n",
            "4                                                None  None             no  \n",
            "5   Married-civ-spouse, Divorced, Never-married, S...  None             no  \n",
            "6   Tech-support, Craft-repair, Other-service, Sal...  None            yes  \n",
            "7   Wife, Own-child, Husband, Not-in-family, Other...  None             no  \n",
            "8   White, Asian-Pac-Islander, Amer-Indian-Eskimo,...  None             no  \n",
            "9                                       Female, Male.  None             no  \n",
            "10                                               None  None             no  \n",
            "11                                               None  None             no  \n",
            "12                                               None  None             no  \n",
            "13  United-States, Cambodia, England, Puerto-Rico,...  None            yes  \n",
            "14                                       >50K, <=50K.  None             no  \n"
          ]
        }
      ]
    },
    {
      "cell_type": "markdown",
      "source": [
        "Import nessasary libraries"
      ],
      "metadata": {
        "id": "2jAXnNablsDG"
      }
    },
    {
      "cell_type": "code",
      "source": [
        "import pandas as pd\n",
        "import numpy as np\n",
        "import matplotlib.pyplot as plt\n",
        "import seaborn as sns\n",
        "from sklearn.preprocessing import StandardScaler\n",
        "from imblearn.over_sampling import SMOTE # to balance the income\n",
        "from sklearn.model_selection import train_test_split\n",
        "from sklearn.naive_bayes import GaussianNB\n",
        "from sklearn.ensemble import RandomForestClassifier\n",
        "from sklearn.metrics import accuracy_score, classification_report\n",
        "from sklearn.preprocessing import LabelEncoder"
      ],
      "metadata": {
        "id": "jTtgMUwvEq6e"
      },
      "execution_count": 566,
      "outputs": []
    },
    {
      "cell_type": "markdown",
      "source": [
        "create dataframe"
      ],
      "metadata": {
        "id": "SD9pvSzrlxej"
      }
    },
    {
      "cell_type": "code",
      "source": [
        "df = pd.concat([X, pd.DataFrame(y, columns=['income'])],axis=1)"
      ],
      "metadata": {
        "id": "KNZV74zNFCM4"
      },
      "execution_count": 567,
      "outputs": []
    },
    {
      "cell_type": "code",
      "source": [
        "df.info()"
      ],
      "metadata": {
        "colab": {
          "base_uri": "https://localhost:8080/"
        },
        "id": "fn2Os6s4WBV2",
        "outputId": "68978ef3-25df-4870-91a3-a7ada4460b87"
      },
      "execution_count": 568,
      "outputs": [
        {
          "output_type": "stream",
          "name": "stdout",
          "text": [
            "<class 'pandas.core.frame.DataFrame'>\n",
            "RangeIndex: 48842 entries, 0 to 48841\n",
            "Data columns (total 15 columns):\n",
            " #   Column          Non-Null Count  Dtype \n",
            "---  ------          --------------  ----- \n",
            " 0   age             48842 non-null  int64 \n",
            " 1   workclass       47879 non-null  object\n",
            " 2   fnlwgt          48842 non-null  int64 \n",
            " 3   education       48842 non-null  object\n",
            " 4   education-num   48842 non-null  int64 \n",
            " 5   marital-status  48842 non-null  object\n",
            " 6   occupation      47876 non-null  object\n",
            " 7   relationship    48842 non-null  object\n",
            " 8   race            48842 non-null  object\n",
            " 9   sex             48842 non-null  object\n",
            " 10  capital-gain    48842 non-null  int64 \n",
            " 11  capital-loss    48842 non-null  int64 \n",
            " 12  hours-per-week  48842 non-null  int64 \n",
            " 13  native-country  48568 non-null  object\n",
            " 14  income          48842 non-null  object\n",
            "dtypes: int64(6), object(9)\n",
            "memory usage: 5.6+ MB\n"
          ]
        }
      ]
    },
    {
      "cell_type": "code",
      "source": [
        "df.head()"
      ],
      "metadata": {
        "colab": {
          "base_uri": "https://localhost:8080/",
          "height": 399
        },
        "id": "wrUPtWk6MDzt",
        "outputId": "6ce50610-ea17-4317-c6ad-158dc125bd42"
      },
      "execution_count": 569,
      "outputs": [
        {
          "output_type": "execute_result",
          "data": {
            "text/plain": [
              "   age         workclass  fnlwgt  education  education-num  \\\n",
              "0   39         State-gov   77516  Bachelors             13   \n",
              "1   50  Self-emp-not-inc   83311  Bachelors             13   \n",
              "2   38           Private  215646    HS-grad              9   \n",
              "3   53           Private  234721       11th              7   \n",
              "4   28           Private  338409  Bachelors             13   \n",
              "\n",
              "       marital-status         occupation   relationship   race     sex  \\\n",
              "0       Never-married       Adm-clerical  Not-in-family  White    Male   \n",
              "1  Married-civ-spouse    Exec-managerial        Husband  White    Male   \n",
              "2            Divorced  Handlers-cleaners  Not-in-family  White    Male   \n",
              "3  Married-civ-spouse  Handlers-cleaners        Husband  Black    Male   \n",
              "4  Married-civ-spouse     Prof-specialty           Wife  Black  Female   \n",
              "\n",
              "   capital-gain  capital-loss  hours-per-week native-country income  \n",
              "0          2174             0              40  United-States  <=50K  \n",
              "1             0             0              13  United-States  <=50K  \n",
              "2             0             0              40  United-States  <=50K  \n",
              "3             0             0              40  United-States  <=50K  \n",
              "4             0             0              40           Cuba  <=50K  "
            ],
            "text/html": [
              "\n",
              "  <div id=\"df-a3ff0f68-3cfc-49a3-a1bf-32832d62e490\" class=\"colab-df-container\">\n",
              "    <div>\n",
              "<style scoped>\n",
              "    .dataframe tbody tr th:only-of-type {\n",
              "        vertical-align: middle;\n",
              "    }\n",
              "\n",
              "    .dataframe tbody tr th {\n",
              "        vertical-align: top;\n",
              "    }\n",
              "\n",
              "    .dataframe thead th {\n",
              "        text-align: right;\n",
              "    }\n",
              "</style>\n",
              "<table border=\"1\" class=\"dataframe\">\n",
              "  <thead>\n",
              "    <tr style=\"text-align: right;\">\n",
              "      <th></th>\n",
              "      <th>age</th>\n",
              "      <th>workclass</th>\n",
              "      <th>fnlwgt</th>\n",
              "      <th>education</th>\n",
              "      <th>education-num</th>\n",
              "      <th>marital-status</th>\n",
              "      <th>occupation</th>\n",
              "      <th>relationship</th>\n",
              "      <th>race</th>\n",
              "      <th>sex</th>\n",
              "      <th>capital-gain</th>\n",
              "      <th>capital-loss</th>\n",
              "      <th>hours-per-week</th>\n",
              "      <th>native-country</th>\n",
              "      <th>income</th>\n",
              "    </tr>\n",
              "  </thead>\n",
              "  <tbody>\n",
              "    <tr>\n",
              "      <th>0</th>\n",
              "      <td>39</td>\n",
              "      <td>State-gov</td>\n",
              "      <td>77516</td>\n",
              "      <td>Bachelors</td>\n",
              "      <td>13</td>\n",
              "      <td>Never-married</td>\n",
              "      <td>Adm-clerical</td>\n",
              "      <td>Not-in-family</td>\n",
              "      <td>White</td>\n",
              "      <td>Male</td>\n",
              "      <td>2174</td>\n",
              "      <td>0</td>\n",
              "      <td>40</td>\n",
              "      <td>United-States</td>\n",
              "      <td>&lt;=50K</td>\n",
              "    </tr>\n",
              "    <tr>\n",
              "      <th>1</th>\n",
              "      <td>50</td>\n",
              "      <td>Self-emp-not-inc</td>\n",
              "      <td>83311</td>\n",
              "      <td>Bachelors</td>\n",
              "      <td>13</td>\n",
              "      <td>Married-civ-spouse</td>\n",
              "      <td>Exec-managerial</td>\n",
              "      <td>Husband</td>\n",
              "      <td>White</td>\n",
              "      <td>Male</td>\n",
              "      <td>0</td>\n",
              "      <td>0</td>\n",
              "      <td>13</td>\n",
              "      <td>United-States</td>\n",
              "      <td>&lt;=50K</td>\n",
              "    </tr>\n",
              "    <tr>\n",
              "      <th>2</th>\n",
              "      <td>38</td>\n",
              "      <td>Private</td>\n",
              "      <td>215646</td>\n",
              "      <td>HS-grad</td>\n",
              "      <td>9</td>\n",
              "      <td>Divorced</td>\n",
              "      <td>Handlers-cleaners</td>\n",
              "      <td>Not-in-family</td>\n",
              "      <td>White</td>\n",
              "      <td>Male</td>\n",
              "      <td>0</td>\n",
              "      <td>0</td>\n",
              "      <td>40</td>\n",
              "      <td>United-States</td>\n",
              "      <td>&lt;=50K</td>\n",
              "    </tr>\n",
              "    <tr>\n",
              "      <th>3</th>\n",
              "      <td>53</td>\n",
              "      <td>Private</td>\n",
              "      <td>234721</td>\n",
              "      <td>11th</td>\n",
              "      <td>7</td>\n",
              "      <td>Married-civ-spouse</td>\n",
              "      <td>Handlers-cleaners</td>\n",
              "      <td>Husband</td>\n",
              "      <td>Black</td>\n",
              "      <td>Male</td>\n",
              "      <td>0</td>\n",
              "      <td>0</td>\n",
              "      <td>40</td>\n",
              "      <td>United-States</td>\n",
              "      <td>&lt;=50K</td>\n",
              "    </tr>\n",
              "    <tr>\n",
              "      <th>4</th>\n",
              "      <td>28</td>\n",
              "      <td>Private</td>\n",
              "      <td>338409</td>\n",
              "      <td>Bachelors</td>\n",
              "      <td>13</td>\n",
              "      <td>Married-civ-spouse</td>\n",
              "      <td>Prof-specialty</td>\n",
              "      <td>Wife</td>\n",
              "      <td>Black</td>\n",
              "      <td>Female</td>\n",
              "      <td>0</td>\n",
              "      <td>0</td>\n",
              "      <td>40</td>\n",
              "      <td>Cuba</td>\n",
              "      <td>&lt;=50K</td>\n",
              "    </tr>\n",
              "  </tbody>\n",
              "</table>\n",
              "</div>\n",
              "    <div class=\"colab-df-buttons\">\n",
              "\n",
              "  <div class=\"colab-df-container\">\n",
              "    <button class=\"colab-df-convert\" onclick=\"convertToInteractive('df-a3ff0f68-3cfc-49a3-a1bf-32832d62e490')\"\n",
              "            title=\"Convert this dataframe to an interactive table.\"\n",
              "            style=\"display:none;\">\n",
              "\n",
              "  <svg xmlns=\"http://www.w3.org/2000/svg\" height=\"24px\" viewBox=\"0 -960 960 960\">\n",
              "    <path d=\"M120-120v-720h720v720H120Zm60-500h600v-160H180v160Zm220 220h160v-160H400v160Zm0 220h160v-160H400v160ZM180-400h160v-160H180v160Zm440 0h160v-160H620v160ZM180-180h160v-160H180v160Zm440 0h160v-160H620v160Z\"/>\n",
              "  </svg>\n",
              "    </button>\n",
              "\n",
              "  <style>\n",
              "    .colab-df-container {\n",
              "      display:flex;\n",
              "      gap: 12px;\n",
              "    }\n",
              "\n",
              "    .colab-df-convert {\n",
              "      background-color: #E8F0FE;\n",
              "      border: none;\n",
              "      border-radius: 50%;\n",
              "      cursor: pointer;\n",
              "      display: none;\n",
              "      fill: #1967D2;\n",
              "      height: 32px;\n",
              "      padding: 0 0 0 0;\n",
              "      width: 32px;\n",
              "    }\n",
              "\n",
              "    .colab-df-convert:hover {\n",
              "      background-color: #E2EBFA;\n",
              "      box-shadow: 0px 1px 2px rgba(60, 64, 67, 0.3), 0px 1px 3px 1px rgba(60, 64, 67, 0.15);\n",
              "      fill: #174EA6;\n",
              "    }\n",
              "\n",
              "    .colab-df-buttons div {\n",
              "      margin-bottom: 4px;\n",
              "    }\n",
              "\n",
              "    [theme=dark] .colab-df-convert {\n",
              "      background-color: #3B4455;\n",
              "      fill: #D2E3FC;\n",
              "    }\n",
              "\n",
              "    [theme=dark] .colab-df-convert:hover {\n",
              "      background-color: #434B5C;\n",
              "      box-shadow: 0px 1px 3px 1px rgba(0, 0, 0, 0.15);\n",
              "      filter: drop-shadow(0px 1px 2px rgba(0, 0, 0, 0.3));\n",
              "      fill: #FFFFFF;\n",
              "    }\n",
              "  </style>\n",
              "\n",
              "    <script>\n",
              "      const buttonEl =\n",
              "        document.querySelector('#df-a3ff0f68-3cfc-49a3-a1bf-32832d62e490 button.colab-df-convert');\n",
              "      buttonEl.style.display =\n",
              "        google.colab.kernel.accessAllowed ? 'block' : 'none';\n",
              "\n",
              "      async function convertToInteractive(key) {\n",
              "        const element = document.querySelector('#df-a3ff0f68-3cfc-49a3-a1bf-32832d62e490');\n",
              "        const dataTable =\n",
              "          await google.colab.kernel.invokeFunction('convertToInteractive',\n",
              "                                                    [key], {});\n",
              "        if (!dataTable) return;\n",
              "\n",
              "        const docLinkHtml = 'Like what you see? Visit the ' +\n",
              "          '<a target=\"_blank\" href=https://colab.research.google.com/notebooks/data_table.ipynb>data table notebook</a>'\n",
              "          + ' to learn more about interactive tables.';\n",
              "        element.innerHTML = '';\n",
              "        dataTable['output_type'] = 'display_data';\n",
              "        await google.colab.output.renderOutput(dataTable, element);\n",
              "        const docLink = document.createElement('div');\n",
              "        docLink.innerHTML = docLinkHtml;\n",
              "        element.appendChild(docLink);\n",
              "      }\n",
              "    </script>\n",
              "  </div>\n",
              "\n",
              "\n",
              "<div id=\"df-14383703-525e-46b8-9450-0c4ecbbc4ce5\">\n",
              "  <button class=\"colab-df-quickchart\" onclick=\"quickchart('df-14383703-525e-46b8-9450-0c4ecbbc4ce5')\"\n",
              "            title=\"Suggest charts\"\n",
              "            style=\"display:none;\">\n",
              "\n",
              "<svg xmlns=\"http://www.w3.org/2000/svg\" height=\"24px\"viewBox=\"0 0 24 24\"\n",
              "     width=\"24px\">\n",
              "    <g>\n",
              "        <path d=\"M19 3H5c-1.1 0-2 .9-2 2v14c0 1.1.9 2 2 2h14c1.1 0 2-.9 2-2V5c0-1.1-.9-2-2-2zM9 17H7v-7h2v7zm4 0h-2V7h2v10zm4 0h-2v-4h2v4z\"/>\n",
              "    </g>\n",
              "</svg>\n",
              "  </button>\n",
              "\n",
              "<style>\n",
              "  .colab-df-quickchart {\n",
              "      --bg-color: #E8F0FE;\n",
              "      --fill-color: #1967D2;\n",
              "      --hover-bg-color: #E2EBFA;\n",
              "      --hover-fill-color: #174EA6;\n",
              "      --disabled-fill-color: #AAA;\n",
              "      --disabled-bg-color: #DDD;\n",
              "  }\n",
              "\n",
              "  [theme=dark] .colab-df-quickchart {\n",
              "      --bg-color: #3B4455;\n",
              "      --fill-color: #D2E3FC;\n",
              "      --hover-bg-color: #434B5C;\n",
              "      --hover-fill-color: #FFFFFF;\n",
              "      --disabled-bg-color: #3B4455;\n",
              "      --disabled-fill-color: #666;\n",
              "  }\n",
              "\n",
              "  .colab-df-quickchart {\n",
              "    background-color: var(--bg-color);\n",
              "    border: none;\n",
              "    border-radius: 50%;\n",
              "    cursor: pointer;\n",
              "    display: none;\n",
              "    fill: var(--fill-color);\n",
              "    height: 32px;\n",
              "    padding: 0;\n",
              "    width: 32px;\n",
              "  }\n",
              "\n",
              "  .colab-df-quickchart:hover {\n",
              "    background-color: var(--hover-bg-color);\n",
              "    box-shadow: 0 1px 2px rgba(60, 64, 67, 0.3), 0 1px 3px 1px rgba(60, 64, 67, 0.15);\n",
              "    fill: var(--button-hover-fill-color);\n",
              "  }\n",
              "\n",
              "  .colab-df-quickchart-complete:disabled,\n",
              "  .colab-df-quickchart-complete:disabled:hover {\n",
              "    background-color: var(--disabled-bg-color);\n",
              "    fill: var(--disabled-fill-color);\n",
              "    box-shadow: none;\n",
              "  }\n",
              "\n",
              "  .colab-df-spinner {\n",
              "    border: 2px solid var(--fill-color);\n",
              "    border-color: transparent;\n",
              "    border-bottom-color: var(--fill-color);\n",
              "    animation:\n",
              "      spin 1s steps(1) infinite;\n",
              "  }\n",
              "\n",
              "  @keyframes spin {\n",
              "    0% {\n",
              "      border-color: transparent;\n",
              "      border-bottom-color: var(--fill-color);\n",
              "      border-left-color: var(--fill-color);\n",
              "    }\n",
              "    20% {\n",
              "      border-color: transparent;\n",
              "      border-left-color: var(--fill-color);\n",
              "      border-top-color: var(--fill-color);\n",
              "    }\n",
              "    30% {\n",
              "      border-color: transparent;\n",
              "      border-left-color: var(--fill-color);\n",
              "      border-top-color: var(--fill-color);\n",
              "      border-right-color: var(--fill-color);\n",
              "    }\n",
              "    40% {\n",
              "      border-color: transparent;\n",
              "      border-right-color: var(--fill-color);\n",
              "      border-top-color: var(--fill-color);\n",
              "    }\n",
              "    60% {\n",
              "      border-color: transparent;\n",
              "      border-right-color: var(--fill-color);\n",
              "    }\n",
              "    80% {\n",
              "      border-color: transparent;\n",
              "      border-right-color: var(--fill-color);\n",
              "      border-bottom-color: var(--fill-color);\n",
              "    }\n",
              "    90% {\n",
              "      border-color: transparent;\n",
              "      border-bottom-color: var(--fill-color);\n",
              "    }\n",
              "  }\n",
              "</style>\n",
              "\n",
              "  <script>\n",
              "    async function quickchart(key) {\n",
              "      const quickchartButtonEl =\n",
              "        document.querySelector('#' + key + ' button');\n",
              "      quickchartButtonEl.disabled = true;  // To prevent multiple clicks.\n",
              "      quickchartButtonEl.classList.add('colab-df-spinner');\n",
              "      try {\n",
              "        const charts = await google.colab.kernel.invokeFunction(\n",
              "            'suggestCharts', [key], {});\n",
              "      } catch (error) {\n",
              "        console.error('Error during call to suggestCharts:', error);\n",
              "      }\n",
              "      quickchartButtonEl.classList.remove('colab-df-spinner');\n",
              "      quickchartButtonEl.classList.add('colab-df-quickchart-complete');\n",
              "    }\n",
              "    (() => {\n",
              "      let quickchartButtonEl =\n",
              "        document.querySelector('#df-14383703-525e-46b8-9450-0c4ecbbc4ce5 button');\n",
              "      quickchartButtonEl.style.display =\n",
              "        google.colab.kernel.accessAllowed ? 'block' : 'none';\n",
              "    })();\n",
              "  </script>\n",
              "</div>\n",
              "\n",
              "    </div>\n",
              "  </div>\n"
            ],
            "application/vnd.google.colaboratory.intrinsic+json": {
              "type": "dataframe",
              "variable_name": "df",
              "summary": "{\n  \"name\": \"df\",\n  \"rows\": 48842,\n  \"fields\": [\n    {\n      \"column\": \"age\",\n      \"properties\": {\n        \"dtype\": \"number\",\n        \"std\": 13,\n        \"min\": 17,\n        \"max\": 90,\n        \"num_unique_values\": 74,\n        \"samples\": [\n          28,\n          73,\n          35\n        ],\n        \"semantic_type\": \"\",\n        \"description\": \"\"\n      }\n    },\n    {\n      \"column\": \"workclass\",\n      \"properties\": {\n        \"dtype\": \"category\",\n        \"num_unique_values\": 9,\n        \"samples\": [\n          \"Without-pay\",\n          \"Self-emp-not-inc\",\n          \"?\"\n        ],\n        \"semantic_type\": \"\",\n        \"description\": \"\"\n      }\n    },\n    {\n      \"column\": \"fnlwgt\",\n      \"properties\": {\n        \"dtype\": \"number\",\n        \"std\": 105604,\n        \"min\": 12285,\n        \"max\": 1490400,\n        \"num_unique_values\": 28523,\n        \"samples\": [\n          159077,\n          199450,\n          181773\n        ],\n        \"semantic_type\": \"\",\n        \"description\": \"\"\n      }\n    },\n    {\n      \"column\": \"education\",\n      \"properties\": {\n        \"dtype\": \"category\",\n        \"num_unique_values\": 16,\n        \"samples\": [\n          \"Bachelors\",\n          \"HS-grad\",\n          \"Some-college\"\n        ],\n        \"semantic_type\": \"\",\n        \"description\": \"\"\n      }\n    },\n    {\n      \"column\": \"education-num\",\n      \"properties\": {\n        \"dtype\": \"number\",\n        \"std\": 2,\n        \"min\": 1,\n        \"max\": 16,\n        \"num_unique_values\": 16,\n        \"samples\": [\n          13,\n          9,\n          10\n        ],\n        \"semantic_type\": \"\",\n        \"description\": \"\"\n      }\n    },\n    {\n      \"column\": \"marital-status\",\n      \"properties\": {\n        \"dtype\": \"category\",\n        \"num_unique_values\": 7,\n        \"samples\": [\n          \"Never-married\",\n          \"Married-civ-spouse\",\n          \"Married-AF-spouse\"\n        ],\n        \"semantic_type\": \"\",\n        \"description\": \"\"\n      }\n    },\n    {\n      \"column\": \"occupation\",\n      \"properties\": {\n        \"dtype\": \"category\",\n        \"num_unique_values\": 15,\n        \"samples\": [\n          \"Machine-op-inspct\",\n          \"?\",\n          \"Adm-clerical\"\n        ],\n        \"semantic_type\": \"\",\n        \"description\": \"\"\n      }\n    },\n    {\n      \"column\": \"relationship\",\n      \"properties\": {\n        \"dtype\": \"category\",\n        \"num_unique_values\": 6,\n        \"samples\": [\n          \"Not-in-family\",\n          \"Husband\",\n          \"Other-relative\"\n        ],\n        \"semantic_type\": \"\",\n        \"description\": \"\"\n      }\n    },\n    {\n      \"column\": \"race\",\n      \"properties\": {\n        \"dtype\": \"category\",\n        \"num_unique_values\": 5,\n        \"samples\": [\n          \"Black\",\n          \"Other\",\n          \"Asian-Pac-Islander\"\n        ],\n        \"semantic_type\": \"\",\n        \"description\": \"\"\n      }\n    },\n    {\n      \"column\": \"sex\",\n      \"properties\": {\n        \"dtype\": \"category\",\n        \"num_unique_values\": 2,\n        \"samples\": [\n          \"Female\",\n          \"Male\"\n        ],\n        \"semantic_type\": \"\",\n        \"description\": \"\"\n      }\n    },\n    {\n      \"column\": \"capital-gain\",\n      \"properties\": {\n        \"dtype\": \"number\",\n        \"std\": 7452,\n        \"min\": 0,\n        \"max\": 99999,\n        \"num_unique_values\": 123,\n        \"samples\": [\n          2176,\n          10520\n        ],\n        \"semantic_type\": \"\",\n        \"description\": \"\"\n      }\n    },\n    {\n      \"column\": \"capital-loss\",\n      \"properties\": {\n        \"dtype\": \"number\",\n        \"std\": 403,\n        \"min\": 0,\n        \"max\": 4356,\n        \"num_unique_values\": 99,\n        \"samples\": [\n          1974,\n          419\n        ],\n        \"semantic_type\": \"\",\n        \"description\": \"\"\n      }\n    },\n    {\n      \"column\": \"hours-per-week\",\n      \"properties\": {\n        \"dtype\": \"number\",\n        \"std\": 12,\n        \"min\": 1,\n        \"max\": 99,\n        \"num_unique_values\": 96,\n        \"samples\": [\n          97,\n          88\n        ],\n        \"semantic_type\": \"\",\n        \"description\": \"\"\n      }\n    },\n    {\n      \"column\": \"native-country\",\n      \"properties\": {\n        \"dtype\": \"category\",\n        \"num_unique_values\": 42,\n        \"samples\": [\n          \"El-Salvador\",\n          \"Philippines\"\n        ],\n        \"semantic_type\": \"\",\n        \"description\": \"\"\n      }\n    },\n    {\n      \"column\": \"income\",\n      \"properties\": {\n        \"dtype\": \"category\",\n        \"num_unique_values\": 4,\n        \"samples\": [\n          \">50K\",\n          \">50K.\"\n        ],\n        \"semantic_type\": \"\",\n        \"description\": \"\"\n      }\n    }\n  ]\n}"
            }
          },
          "metadata": {},
          "execution_count": 569
        }
      ]
    },
    {
      "cell_type": "code",
      "source": [
        "df.sample(5)"
      ],
      "metadata": {
        "colab": {
          "base_uri": "https://localhost:8080/",
          "height": 382
        },
        "id": "SEt62CD4WMsk",
        "outputId": "9e6c881b-8fa6-41e0-d422-90d46b48cda8"
      },
      "execution_count": 570,
      "outputs": [
        {
          "output_type": "execute_result",
          "data": {
            "text/plain": [
              "       age  workclass  fnlwgt     education  education-num  \\\n",
              "17721   69  Local-gov  286983  Some-college             10   \n",
              "21856   35    Private  189240  Some-college             10   \n",
              "12459   28    Private  221366  Some-college             10   \n",
              "31365   39    Private  206074     Bachelors             13   \n",
              "28886   38  State-gov   34364       Masters             14   \n",
              "\n",
              "           marital-status      occupation   relationship   race     sex  \\\n",
              "17721  Married-civ-spouse   Other-service        Husband  White    Male   \n",
              "21856            Divorced   Other-service      Unmarried  Black  Female   \n",
              "12459       Never-married    Craft-repair      Own-child  White    Male   \n",
              "31365  Married-civ-spouse  Prof-specialty        Husband  White    Male   \n",
              "28886            Divorced    Adm-clerical  Not-in-family  White  Female   \n",
              "\n",
              "       capital-gain  capital-loss  hours-per-week native-country income  \n",
              "17721             0             0              40  United-States  <=50K  \n",
              "21856             0             0              40  United-States  <=50K  \n",
              "12459             0             0              40  United-States  <=50K  \n",
              "31365             0             0              45  United-States   >50K  \n",
              "28886             0             0              40  United-States  <=50K  "
            ],
            "text/html": [
              "\n",
              "  <div id=\"df-ed050b73-e1f4-4a8a-9830-e0f43d21d738\" class=\"colab-df-container\">\n",
              "    <div>\n",
              "<style scoped>\n",
              "    .dataframe tbody tr th:only-of-type {\n",
              "        vertical-align: middle;\n",
              "    }\n",
              "\n",
              "    .dataframe tbody tr th {\n",
              "        vertical-align: top;\n",
              "    }\n",
              "\n",
              "    .dataframe thead th {\n",
              "        text-align: right;\n",
              "    }\n",
              "</style>\n",
              "<table border=\"1\" class=\"dataframe\">\n",
              "  <thead>\n",
              "    <tr style=\"text-align: right;\">\n",
              "      <th></th>\n",
              "      <th>age</th>\n",
              "      <th>workclass</th>\n",
              "      <th>fnlwgt</th>\n",
              "      <th>education</th>\n",
              "      <th>education-num</th>\n",
              "      <th>marital-status</th>\n",
              "      <th>occupation</th>\n",
              "      <th>relationship</th>\n",
              "      <th>race</th>\n",
              "      <th>sex</th>\n",
              "      <th>capital-gain</th>\n",
              "      <th>capital-loss</th>\n",
              "      <th>hours-per-week</th>\n",
              "      <th>native-country</th>\n",
              "      <th>income</th>\n",
              "    </tr>\n",
              "  </thead>\n",
              "  <tbody>\n",
              "    <tr>\n",
              "      <th>17721</th>\n",
              "      <td>69</td>\n",
              "      <td>Local-gov</td>\n",
              "      <td>286983</td>\n",
              "      <td>Some-college</td>\n",
              "      <td>10</td>\n",
              "      <td>Married-civ-spouse</td>\n",
              "      <td>Other-service</td>\n",
              "      <td>Husband</td>\n",
              "      <td>White</td>\n",
              "      <td>Male</td>\n",
              "      <td>0</td>\n",
              "      <td>0</td>\n",
              "      <td>40</td>\n",
              "      <td>United-States</td>\n",
              "      <td>&lt;=50K</td>\n",
              "    </tr>\n",
              "    <tr>\n",
              "      <th>21856</th>\n",
              "      <td>35</td>\n",
              "      <td>Private</td>\n",
              "      <td>189240</td>\n",
              "      <td>Some-college</td>\n",
              "      <td>10</td>\n",
              "      <td>Divorced</td>\n",
              "      <td>Other-service</td>\n",
              "      <td>Unmarried</td>\n",
              "      <td>Black</td>\n",
              "      <td>Female</td>\n",
              "      <td>0</td>\n",
              "      <td>0</td>\n",
              "      <td>40</td>\n",
              "      <td>United-States</td>\n",
              "      <td>&lt;=50K</td>\n",
              "    </tr>\n",
              "    <tr>\n",
              "      <th>12459</th>\n",
              "      <td>28</td>\n",
              "      <td>Private</td>\n",
              "      <td>221366</td>\n",
              "      <td>Some-college</td>\n",
              "      <td>10</td>\n",
              "      <td>Never-married</td>\n",
              "      <td>Craft-repair</td>\n",
              "      <td>Own-child</td>\n",
              "      <td>White</td>\n",
              "      <td>Male</td>\n",
              "      <td>0</td>\n",
              "      <td>0</td>\n",
              "      <td>40</td>\n",
              "      <td>United-States</td>\n",
              "      <td>&lt;=50K</td>\n",
              "    </tr>\n",
              "    <tr>\n",
              "      <th>31365</th>\n",
              "      <td>39</td>\n",
              "      <td>Private</td>\n",
              "      <td>206074</td>\n",
              "      <td>Bachelors</td>\n",
              "      <td>13</td>\n",
              "      <td>Married-civ-spouse</td>\n",
              "      <td>Prof-specialty</td>\n",
              "      <td>Husband</td>\n",
              "      <td>White</td>\n",
              "      <td>Male</td>\n",
              "      <td>0</td>\n",
              "      <td>0</td>\n",
              "      <td>45</td>\n",
              "      <td>United-States</td>\n",
              "      <td>&gt;50K</td>\n",
              "    </tr>\n",
              "    <tr>\n",
              "      <th>28886</th>\n",
              "      <td>38</td>\n",
              "      <td>State-gov</td>\n",
              "      <td>34364</td>\n",
              "      <td>Masters</td>\n",
              "      <td>14</td>\n",
              "      <td>Divorced</td>\n",
              "      <td>Adm-clerical</td>\n",
              "      <td>Not-in-family</td>\n",
              "      <td>White</td>\n",
              "      <td>Female</td>\n",
              "      <td>0</td>\n",
              "      <td>0</td>\n",
              "      <td>40</td>\n",
              "      <td>United-States</td>\n",
              "      <td>&lt;=50K</td>\n",
              "    </tr>\n",
              "  </tbody>\n",
              "</table>\n",
              "</div>\n",
              "    <div class=\"colab-df-buttons\">\n",
              "\n",
              "  <div class=\"colab-df-container\">\n",
              "    <button class=\"colab-df-convert\" onclick=\"convertToInteractive('df-ed050b73-e1f4-4a8a-9830-e0f43d21d738')\"\n",
              "            title=\"Convert this dataframe to an interactive table.\"\n",
              "            style=\"display:none;\">\n",
              "\n",
              "  <svg xmlns=\"http://www.w3.org/2000/svg\" height=\"24px\" viewBox=\"0 -960 960 960\">\n",
              "    <path d=\"M120-120v-720h720v720H120Zm60-500h600v-160H180v160Zm220 220h160v-160H400v160Zm0 220h160v-160H400v160ZM180-400h160v-160H180v160Zm440 0h160v-160H620v160ZM180-180h160v-160H180v160Zm440 0h160v-160H620v160Z\"/>\n",
              "  </svg>\n",
              "    </button>\n",
              "\n",
              "  <style>\n",
              "    .colab-df-container {\n",
              "      display:flex;\n",
              "      gap: 12px;\n",
              "    }\n",
              "\n",
              "    .colab-df-convert {\n",
              "      background-color: #E8F0FE;\n",
              "      border: none;\n",
              "      border-radius: 50%;\n",
              "      cursor: pointer;\n",
              "      display: none;\n",
              "      fill: #1967D2;\n",
              "      height: 32px;\n",
              "      padding: 0 0 0 0;\n",
              "      width: 32px;\n",
              "    }\n",
              "\n",
              "    .colab-df-convert:hover {\n",
              "      background-color: #E2EBFA;\n",
              "      box-shadow: 0px 1px 2px rgba(60, 64, 67, 0.3), 0px 1px 3px 1px rgba(60, 64, 67, 0.15);\n",
              "      fill: #174EA6;\n",
              "    }\n",
              "\n",
              "    .colab-df-buttons div {\n",
              "      margin-bottom: 4px;\n",
              "    }\n",
              "\n",
              "    [theme=dark] .colab-df-convert {\n",
              "      background-color: #3B4455;\n",
              "      fill: #D2E3FC;\n",
              "    }\n",
              "\n",
              "    [theme=dark] .colab-df-convert:hover {\n",
              "      background-color: #434B5C;\n",
              "      box-shadow: 0px 1px 3px 1px rgba(0, 0, 0, 0.15);\n",
              "      filter: drop-shadow(0px 1px 2px rgba(0, 0, 0, 0.3));\n",
              "      fill: #FFFFFF;\n",
              "    }\n",
              "  </style>\n",
              "\n",
              "    <script>\n",
              "      const buttonEl =\n",
              "        document.querySelector('#df-ed050b73-e1f4-4a8a-9830-e0f43d21d738 button.colab-df-convert');\n",
              "      buttonEl.style.display =\n",
              "        google.colab.kernel.accessAllowed ? 'block' : 'none';\n",
              "\n",
              "      async function convertToInteractive(key) {\n",
              "        const element = document.querySelector('#df-ed050b73-e1f4-4a8a-9830-e0f43d21d738');\n",
              "        const dataTable =\n",
              "          await google.colab.kernel.invokeFunction('convertToInteractive',\n",
              "                                                    [key], {});\n",
              "        if (!dataTable) return;\n",
              "\n",
              "        const docLinkHtml = 'Like what you see? Visit the ' +\n",
              "          '<a target=\"_blank\" href=https://colab.research.google.com/notebooks/data_table.ipynb>data table notebook</a>'\n",
              "          + ' to learn more about interactive tables.';\n",
              "        element.innerHTML = '';\n",
              "        dataTable['output_type'] = 'display_data';\n",
              "        await google.colab.output.renderOutput(dataTable, element);\n",
              "        const docLink = document.createElement('div');\n",
              "        docLink.innerHTML = docLinkHtml;\n",
              "        element.appendChild(docLink);\n",
              "      }\n",
              "    </script>\n",
              "  </div>\n",
              "\n",
              "\n",
              "<div id=\"df-c5207bb8-ec1a-4355-bf92-911a43a0a537\">\n",
              "  <button class=\"colab-df-quickchart\" onclick=\"quickchart('df-c5207bb8-ec1a-4355-bf92-911a43a0a537')\"\n",
              "            title=\"Suggest charts\"\n",
              "            style=\"display:none;\">\n",
              "\n",
              "<svg xmlns=\"http://www.w3.org/2000/svg\" height=\"24px\"viewBox=\"0 0 24 24\"\n",
              "     width=\"24px\">\n",
              "    <g>\n",
              "        <path d=\"M19 3H5c-1.1 0-2 .9-2 2v14c0 1.1.9 2 2 2h14c1.1 0 2-.9 2-2V5c0-1.1-.9-2-2-2zM9 17H7v-7h2v7zm4 0h-2V7h2v10zm4 0h-2v-4h2v4z\"/>\n",
              "    </g>\n",
              "</svg>\n",
              "  </button>\n",
              "\n",
              "<style>\n",
              "  .colab-df-quickchart {\n",
              "      --bg-color: #E8F0FE;\n",
              "      --fill-color: #1967D2;\n",
              "      --hover-bg-color: #E2EBFA;\n",
              "      --hover-fill-color: #174EA6;\n",
              "      --disabled-fill-color: #AAA;\n",
              "      --disabled-bg-color: #DDD;\n",
              "  }\n",
              "\n",
              "  [theme=dark] .colab-df-quickchart {\n",
              "      --bg-color: #3B4455;\n",
              "      --fill-color: #D2E3FC;\n",
              "      --hover-bg-color: #434B5C;\n",
              "      --hover-fill-color: #FFFFFF;\n",
              "      --disabled-bg-color: #3B4455;\n",
              "      --disabled-fill-color: #666;\n",
              "  }\n",
              "\n",
              "  .colab-df-quickchart {\n",
              "    background-color: var(--bg-color);\n",
              "    border: none;\n",
              "    border-radius: 50%;\n",
              "    cursor: pointer;\n",
              "    display: none;\n",
              "    fill: var(--fill-color);\n",
              "    height: 32px;\n",
              "    padding: 0;\n",
              "    width: 32px;\n",
              "  }\n",
              "\n",
              "  .colab-df-quickchart:hover {\n",
              "    background-color: var(--hover-bg-color);\n",
              "    box-shadow: 0 1px 2px rgba(60, 64, 67, 0.3), 0 1px 3px 1px rgba(60, 64, 67, 0.15);\n",
              "    fill: var(--button-hover-fill-color);\n",
              "  }\n",
              "\n",
              "  .colab-df-quickchart-complete:disabled,\n",
              "  .colab-df-quickchart-complete:disabled:hover {\n",
              "    background-color: var(--disabled-bg-color);\n",
              "    fill: var(--disabled-fill-color);\n",
              "    box-shadow: none;\n",
              "  }\n",
              "\n",
              "  .colab-df-spinner {\n",
              "    border: 2px solid var(--fill-color);\n",
              "    border-color: transparent;\n",
              "    border-bottom-color: var(--fill-color);\n",
              "    animation:\n",
              "      spin 1s steps(1) infinite;\n",
              "  }\n",
              "\n",
              "  @keyframes spin {\n",
              "    0% {\n",
              "      border-color: transparent;\n",
              "      border-bottom-color: var(--fill-color);\n",
              "      border-left-color: var(--fill-color);\n",
              "    }\n",
              "    20% {\n",
              "      border-color: transparent;\n",
              "      border-left-color: var(--fill-color);\n",
              "      border-top-color: var(--fill-color);\n",
              "    }\n",
              "    30% {\n",
              "      border-color: transparent;\n",
              "      border-left-color: var(--fill-color);\n",
              "      border-top-color: var(--fill-color);\n",
              "      border-right-color: var(--fill-color);\n",
              "    }\n",
              "    40% {\n",
              "      border-color: transparent;\n",
              "      border-right-color: var(--fill-color);\n",
              "      border-top-color: var(--fill-color);\n",
              "    }\n",
              "    60% {\n",
              "      border-color: transparent;\n",
              "      border-right-color: var(--fill-color);\n",
              "    }\n",
              "    80% {\n",
              "      border-color: transparent;\n",
              "      border-right-color: var(--fill-color);\n",
              "      border-bottom-color: var(--fill-color);\n",
              "    }\n",
              "    90% {\n",
              "      border-color: transparent;\n",
              "      border-bottom-color: var(--fill-color);\n",
              "    }\n",
              "  }\n",
              "</style>\n",
              "\n",
              "  <script>\n",
              "    async function quickchart(key) {\n",
              "      const quickchartButtonEl =\n",
              "        document.querySelector('#' + key + ' button');\n",
              "      quickchartButtonEl.disabled = true;  // To prevent multiple clicks.\n",
              "      quickchartButtonEl.classList.add('colab-df-spinner');\n",
              "      try {\n",
              "        const charts = await google.colab.kernel.invokeFunction(\n",
              "            'suggestCharts', [key], {});\n",
              "      } catch (error) {\n",
              "        console.error('Error during call to suggestCharts:', error);\n",
              "      }\n",
              "      quickchartButtonEl.classList.remove('colab-df-spinner');\n",
              "      quickchartButtonEl.classList.add('colab-df-quickchart-complete');\n",
              "    }\n",
              "    (() => {\n",
              "      let quickchartButtonEl =\n",
              "        document.querySelector('#df-c5207bb8-ec1a-4355-bf92-911a43a0a537 button');\n",
              "      quickchartButtonEl.style.display =\n",
              "        google.colab.kernel.accessAllowed ? 'block' : 'none';\n",
              "    })();\n",
              "  </script>\n",
              "</div>\n",
              "\n",
              "    </div>\n",
              "  </div>\n"
            ],
            "application/vnd.google.colaboratory.intrinsic+json": {
              "type": "dataframe",
              "summary": "{\n  \"name\": \"df\",\n  \"rows\": 5,\n  \"fields\": [\n    {\n      \"column\": \"age\",\n      \"properties\": {\n        \"dtype\": \"number\",\n        \"std\": 15,\n        \"min\": 28,\n        \"max\": 69,\n        \"num_unique_values\": 5,\n        \"samples\": [\n          35,\n          38,\n          28\n        ],\n        \"semantic_type\": \"\",\n        \"description\": \"\"\n      }\n    },\n    {\n      \"column\": \"workclass\",\n      \"properties\": {\n        \"dtype\": \"string\",\n        \"num_unique_values\": 3,\n        \"samples\": [\n          \"Local-gov\",\n          \"Private\",\n          \"State-gov\"\n        ],\n        \"semantic_type\": \"\",\n        \"description\": \"\"\n      }\n    },\n    {\n      \"column\": \"fnlwgt\",\n      \"properties\": {\n        \"dtype\": \"number\",\n        \"std\": 93330,\n        \"min\": 34364,\n        \"max\": 286983,\n        \"num_unique_values\": 5,\n        \"samples\": [\n          189240,\n          34364,\n          221366\n        ],\n        \"semantic_type\": \"\",\n        \"description\": \"\"\n      }\n    },\n    {\n      \"column\": \"education\",\n      \"properties\": {\n        \"dtype\": \"string\",\n        \"num_unique_values\": 3,\n        \"samples\": [\n          \"Some-college\",\n          \"Bachelors\",\n          \"Masters\"\n        ],\n        \"semantic_type\": \"\",\n        \"description\": \"\"\n      }\n    },\n    {\n      \"column\": \"education-num\",\n      \"properties\": {\n        \"dtype\": \"number\",\n        \"std\": 1,\n        \"min\": 10,\n        \"max\": 14,\n        \"num_unique_values\": 3,\n        \"samples\": [\n          10,\n          13,\n          14\n        ],\n        \"semantic_type\": \"\",\n        \"description\": \"\"\n      }\n    },\n    {\n      \"column\": \"marital-status\",\n      \"properties\": {\n        \"dtype\": \"string\",\n        \"num_unique_values\": 3,\n        \"samples\": [\n          \"Married-civ-spouse\",\n          \"Divorced\",\n          \"Never-married\"\n        ],\n        \"semantic_type\": \"\",\n        \"description\": \"\"\n      }\n    },\n    {\n      \"column\": \"occupation\",\n      \"properties\": {\n        \"dtype\": \"string\",\n        \"num_unique_values\": 4,\n        \"samples\": [\n          \"Craft-repair\",\n          \"Adm-clerical\",\n          \"Other-service\"\n        ],\n        \"semantic_type\": \"\",\n        \"description\": \"\"\n      }\n    },\n    {\n      \"column\": \"relationship\",\n      \"properties\": {\n        \"dtype\": \"string\",\n        \"num_unique_values\": 4,\n        \"samples\": [\n          \"Unmarried\",\n          \"Not-in-family\",\n          \"Husband\"\n        ],\n        \"semantic_type\": \"\",\n        \"description\": \"\"\n      }\n    },\n    {\n      \"column\": \"race\",\n      \"properties\": {\n        \"dtype\": \"category\",\n        \"num_unique_values\": 2,\n        \"samples\": [\n          \"Black\",\n          \"White\"\n        ],\n        \"semantic_type\": \"\",\n        \"description\": \"\"\n      }\n    },\n    {\n      \"column\": \"sex\",\n      \"properties\": {\n        \"dtype\": \"category\",\n        \"num_unique_values\": 2,\n        \"samples\": [\n          \"Female\",\n          \"Male\"\n        ],\n        \"semantic_type\": \"\",\n        \"description\": \"\"\n      }\n    },\n    {\n      \"column\": \"capital-gain\",\n      \"properties\": {\n        \"dtype\": \"number\",\n        \"std\": 0,\n        \"min\": 0,\n        \"max\": 0,\n        \"num_unique_values\": 1,\n        \"samples\": [\n          0\n        ],\n        \"semantic_type\": \"\",\n        \"description\": \"\"\n      }\n    },\n    {\n      \"column\": \"capital-loss\",\n      \"properties\": {\n        \"dtype\": \"number\",\n        \"std\": 0,\n        \"min\": 0,\n        \"max\": 0,\n        \"num_unique_values\": 1,\n        \"samples\": [\n          0\n        ],\n        \"semantic_type\": \"\",\n        \"description\": \"\"\n      }\n    },\n    {\n      \"column\": \"hours-per-week\",\n      \"properties\": {\n        \"dtype\": \"number\",\n        \"std\": 2,\n        \"min\": 40,\n        \"max\": 45,\n        \"num_unique_values\": 2,\n        \"samples\": [\n          45\n        ],\n        \"semantic_type\": \"\",\n        \"description\": \"\"\n      }\n    },\n    {\n      \"column\": \"native-country\",\n      \"properties\": {\n        \"dtype\": \"category\",\n        \"num_unique_values\": 1,\n        \"samples\": [\n          \"United-States\"\n        ],\n        \"semantic_type\": \"\",\n        \"description\": \"\"\n      }\n    },\n    {\n      \"column\": \"income\",\n      \"properties\": {\n        \"dtype\": \"category\",\n        \"num_unique_values\": 2,\n        \"samples\": [\n          \">50K\"\n        ],\n        \"semantic_type\": \"\",\n        \"description\": \"\"\n      }\n    }\n  ]\n}"
            }
          },
          "metadata": {},
          "execution_count": 570
        }
      ]
    },
    {
      "cell_type": "markdown",
      "source": [
        "Returns a tuple representing the number of rows and columns in the DataFrame"
      ],
      "metadata": {
        "id": "_tAw8jPK-GGe"
      }
    },
    {
      "cell_type": "code",
      "source": [
        "df.shape"
      ],
      "metadata": {
        "colab": {
          "base_uri": "https://localhost:8080/"
        },
        "id": "wYNV0N5_WW2M",
        "outputId": "0c1b9276-47dd-4bef-bf0f-ffeeec92f24b"
      },
      "execution_count": 571,
      "outputs": [
        {
          "output_type": "execute_result",
          "data": {
            "text/plain": [
              "(48842, 15)"
            ]
          },
          "metadata": {},
          "execution_count": 571
        }
      ]
    },
    {
      "cell_type": "code",
      "source": [
        "df.describe()"
      ],
      "metadata": {
        "colab": {
          "base_uri": "https://localhost:8080/",
          "height": 337
        },
        "id": "d1tslvjDLG5V",
        "outputId": "1c51da9e-9833-473a-889e-ad10f231b2be"
      },
      "execution_count": 572,
      "outputs": [
        {
          "output_type": "execute_result",
          "data": {
            "text/plain": [
              "                age        fnlwgt  education-num  capital-gain  capital-loss  \\\n",
              "count  48842.000000  4.884200e+04   48842.000000  48842.000000  48842.000000   \n",
              "mean      38.643585  1.896641e+05      10.078089   1079.067626     87.502314   \n",
              "std       13.710510  1.056040e+05       2.570973   7452.019058    403.004552   \n",
              "min       17.000000  1.228500e+04       1.000000      0.000000      0.000000   \n",
              "25%       28.000000  1.175505e+05       9.000000      0.000000      0.000000   \n",
              "50%       37.000000  1.781445e+05      10.000000      0.000000      0.000000   \n",
              "75%       48.000000  2.376420e+05      12.000000      0.000000      0.000000   \n",
              "max       90.000000  1.490400e+06      16.000000  99999.000000   4356.000000   \n",
              "\n",
              "       hours-per-week  \n",
              "count    48842.000000  \n",
              "mean        40.422382  \n",
              "std         12.391444  \n",
              "min          1.000000  \n",
              "25%         40.000000  \n",
              "50%         40.000000  \n",
              "75%         45.000000  \n",
              "max         99.000000  "
            ],
            "text/html": [
              "\n",
              "  <div id=\"df-d7d1cf65-6d5f-4fea-b1f5-3b984d89fc88\" class=\"colab-df-container\">\n",
              "    <div>\n",
              "<style scoped>\n",
              "    .dataframe tbody tr th:only-of-type {\n",
              "        vertical-align: middle;\n",
              "    }\n",
              "\n",
              "    .dataframe tbody tr th {\n",
              "        vertical-align: top;\n",
              "    }\n",
              "\n",
              "    .dataframe thead th {\n",
              "        text-align: right;\n",
              "    }\n",
              "</style>\n",
              "<table border=\"1\" class=\"dataframe\">\n",
              "  <thead>\n",
              "    <tr style=\"text-align: right;\">\n",
              "      <th></th>\n",
              "      <th>age</th>\n",
              "      <th>fnlwgt</th>\n",
              "      <th>education-num</th>\n",
              "      <th>capital-gain</th>\n",
              "      <th>capital-loss</th>\n",
              "      <th>hours-per-week</th>\n",
              "    </tr>\n",
              "  </thead>\n",
              "  <tbody>\n",
              "    <tr>\n",
              "      <th>count</th>\n",
              "      <td>48842.000000</td>\n",
              "      <td>4.884200e+04</td>\n",
              "      <td>48842.000000</td>\n",
              "      <td>48842.000000</td>\n",
              "      <td>48842.000000</td>\n",
              "      <td>48842.000000</td>\n",
              "    </tr>\n",
              "    <tr>\n",
              "      <th>mean</th>\n",
              "      <td>38.643585</td>\n",
              "      <td>1.896641e+05</td>\n",
              "      <td>10.078089</td>\n",
              "      <td>1079.067626</td>\n",
              "      <td>87.502314</td>\n",
              "      <td>40.422382</td>\n",
              "    </tr>\n",
              "    <tr>\n",
              "      <th>std</th>\n",
              "      <td>13.710510</td>\n",
              "      <td>1.056040e+05</td>\n",
              "      <td>2.570973</td>\n",
              "      <td>7452.019058</td>\n",
              "      <td>403.004552</td>\n",
              "      <td>12.391444</td>\n",
              "    </tr>\n",
              "    <tr>\n",
              "      <th>min</th>\n",
              "      <td>17.000000</td>\n",
              "      <td>1.228500e+04</td>\n",
              "      <td>1.000000</td>\n",
              "      <td>0.000000</td>\n",
              "      <td>0.000000</td>\n",
              "      <td>1.000000</td>\n",
              "    </tr>\n",
              "    <tr>\n",
              "      <th>25%</th>\n",
              "      <td>28.000000</td>\n",
              "      <td>1.175505e+05</td>\n",
              "      <td>9.000000</td>\n",
              "      <td>0.000000</td>\n",
              "      <td>0.000000</td>\n",
              "      <td>40.000000</td>\n",
              "    </tr>\n",
              "    <tr>\n",
              "      <th>50%</th>\n",
              "      <td>37.000000</td>\n",
              "      <td>1.781445e+05</td>\n",
              "      <td>10.000000</td>\n",
              "      <td>0.000000</td>\n",
              "      <td>0.000000</td>\n",
              "      <td>40.000000</td>\n",
              "    </tr>\n",
              "    <tr>\n",
              "      <th>75%</th>\n",
              "      <td>48.000000</td>\n",
              "      <td>2.376420e+05</td>\n",
              "      <td>12.000000</td>\n",
              "      <td>0.000000</td>\n",
              "      <td>0.000000</td>\n",
              "      <td>45.000000</td>\n",
              "    </tr>\n",
              "    <tr>\n",
              "      <th>max</th>\n",
              "      <td>90.000000</td>\n",
              "      <td>1.490400e+06</td>\n",
              "      <td>16.000000</td>\n",
              "      <td>99999.000000</td>\n",
              "      <td>4356.000000</td>\n",
              "      <td>99.000000</td>\n",
              "    </tr>\n",
              "  </tbody>\n",
              "</table>\n",
              "</div>\n",
              "    <div class=\"colab-df-buttons\">\n",
              "\n",
              "  <div class=\"colab-df-container\">\n",
              "    <button class=\"colab-df-convert\" onclick=\"convertToInteractive('df-d7d1cf65-6d5f-4fea-b1f5-3b984d89fc88')\"\n",
              "            title=\"Convert this dataframe to an interactive table.\"\n",
              "            style=\"display:none;\">\n",
              "\n",
              "  <svg xmlns=\"http://www.w3.org/2000/svg\" height=\"24px\" viewBox=\"0 -960 960 960\">\n",
              "    <path d=\"M120-120v-720h720v720H120Zm60-500h600v-160H180v160Zm220 220h160v-160H400v160Zm0 220h160v-160H400v160ZM180-400h160v-160H180v160Zm440 0h160v-160H620v160ZM180-180h160v-160H180v160Zm440 0h160v-160H620v160Z\"/>\n",
              "  </svg>\n",
              "    </button>\n",
              "\n",
              "  <style>\n",
              "    .colab-df-container {\n",
              "      display:flex;\n",
              "      gap: 12px;\n",
              "    }\n",
              "\n",
              "    .colab-df-convert {\n",
              "      background-color: #E8F0FE;\n",
              "      border: none;\n",
              "      border-radius: 50%;\n",
              "      cursor: pointer;\n",
              "      display: none;\n",
              "      fill: #1967D2;\n",
              "      height: 32px;\n",
              "      padding: 0 0 0 0;\n",
              "      width: 32px;\n",
              "    }\n",
              "\n",
              "    .colab-df-convert:hover {\n",
              "      background-color: #E2EBFA;\n",
              "      box-shadow: 0px 1px 2px rgba(60, 64, 67, 0.3), 0px 1px 3px 1px rgba(60, 64, 67, 0.15);\n",
              "      fill: #174EA6;\n",
              "    }\n",
              "\n",
              "    .colab-df-buttons div {\n",
              "      margin-bottom: 4px;\n",
              "    }\n",
              "\n",
              "    [theme=dark] .colab-df-convert {\n",
              "      background-color: #3B4455;\n",
              "      fill: #D2E3FC;\n",
              "    }\n",
              "\n",
              "    [theme=dark] .colab-df-convert:hover {\n",
              "      background-color: #434B5C;\n",
              "      box-shadow: 0px 1px 3px 1px rgba(0, 0, 0, 0.15);\n",
              "      filter: drop-shadow(0px 1px 2px rgba(0, 0, 0, 0.3));\n",
              "      fill: #FFFFFF;\n",
              "    }\n",
              "  </style>\n",
              "\n",
              "    <script>\n",
              "      const buttonEl =\n",
              "        document.querySelector('#df-d7d1cf65-6d5f-4fea-b1f5-3b984d89fc88 button.colab-df-convert');\n",
              "      buttonEl.style.display =\n",
              "        google.colab.kernel.accessAllowed ? 'block' : 'none';\n",
              "\n",
              "      async function convertToInteractive(key) {\n",
              "        const element = document.querySelector('#df-d7d1cf65-6d5f-4fea-b1f5-3b984d89fc88');\n",
              "        const dataTable =\n",
              "          await google.colab.kernel.invokeFunction('convertToInteractive',\n",
              "                                                    [key], {});\n",
              "        if (!dataTable) return;\n",
              "\n",
              "        const docLinkHtml = 'Like what you see? Visit the ' +\n",
              "          '<a target=\"_blank\" href=https://colab.research.google.com/notebooks/data_table.ipynb>data table notebook</a>'\n",
              "          + ' to learn more about interactive tables.';\n",
              "        element.innerHTML = '';\n",
              "        dataTable['output_type'] = 'display_data';\n",
              "        await google.colab.output.renderOutput(dataTable, element);\n",
              "        const docLink = document.createElement('div');\n",
              "        docLink.innerHTML = docLinkHtml;\n",
              "        element.appendChild(docLink);\n",
              "      }\n",
              "    </script>\n",
              "  </div>\n",
              "\n",
              "\n",
              "<div id=\"df-c0ca6473-7861-4bd2-981b-37991bd797a9\">\n",
              "  <button class=\"colab-df-quickchart\" onclick=\"quickchart('df-c0ca6473-7861-4bd2-981b-37991bd797a9')\"\n",
              "            title=\"Suggest charts\"\n",
              "            style=\"display:none;\">\n",
              "\n",
              "<svg xmlns=\"http://www.w3.org/2000/svg\" height=\"24px\"viewBox=\"0 0 24 24\"\n",
              "     width=\"24px\">\n",
              "    <g>\n",
              "        <path d=\"M19 3H5c-1.1 0-2 .9-2 2v14c0 1.1.9 2 2 2h14c1.1 0 2-.9 2-2V5c0-1.1-.9-2-2-2zM9 17H7v-7h2v7zm4 0h-2V7h2v10zm4 0h-2v-4h2v4z\"/>\n",
              "    </g>\n",
              "</svg>\n",
              "  </button>\n",
              "\n",
              "<style>\n",
              "  .colab-df-quickchart {\n",
              "      --bg-color: #E8F0FE;\n",
              "      --fill-color: #1967D2;\n",
              "      --hover-bg-color: #E2EBFA;\n",
              "      --hover-fill-color: #174EA6;\n",
              "      --disabled-fill-color: #AAA;\n",
              "      --disabled-bg-color: #DDD;\n",
              "  }\n",
              "\n",
              "  [theme=dark] .colab-df-quickchart {\n",
              "      --bg-color: #3B4455;\n",
              "      --fill-color: #D2E3FC;\n",
              "      --hover-bg-color: #434B5C;\n",
              "      --hover-fill-color: #FFFFFF;\n",
              "      --disabled-bg-color: #3B4455;\n",
              "      --disabled-fill-color: #666;\n",
              "  }\n",
              "\n",
              "  .colab-df-quickchart {\n",
              "    background-color: var(--bg-color);\n",
              "    border: none;\n",
              "    border-radius: 50%;\n",
              "    cursor: pointer;\n",
              "    display: none;\n",
              "    fill: var(--fill-color);\n",
              "    height: 32px;\n",
              "    padding: 0;\n",
              "    width: 32px;\n",
              "  }\n",
              "\n",
              "  .colab-df-quickchart:hover {\n",
              "    background-color: var(--hover-bg-color);\n",
              "    box-shadow: 0 1px 2px rgba(60, 64, 67, 0.3), 0 1px 3px 1px rgba(60, 64, 67, 0.15);\n",
              "    fill: var(--button-hover-fill-color);\n",
              "  }\n",
              "\n",
              "  .colab-df-quickchart-complete:disabled,\n",
              "  .colab-df-quickchart-complete:disabled:hover {\n",
              "    background-color: var(--disabled-bg-color);\n",
              "    fill: var(--disabled-fill-color);\n",
              "    box-shadow: none;\n",
              "  }\n",
              "\n",
              "  .colab-df-spinner {\n",
              "    border: 2px solid var(--fill-color);\n",
              "    border-color: transparent;\n",
              "    border-bottom-color: var(--fill-color);\n",
              "    animation:\n",
              "      spin 1s steps(1) infinite;\n",
              "  }\n",
              "\n",
              "  @keyframes spin {\n",
              "    0% {\n",
              "      border-color: transparent;\n",
              "      border-bottom-color: var(--fill-color);\n",
              "      border-left-color: var(--fill-color);\n",
              "    }\n",
              "    20% {\n",
              "      border-color: transparent;\n",
              "      border-left-color: var(--fill-color);\n",
              "      border-top-color: var(--fill-color);\n",
              "    }\n",
              "    30% {\n",
              "      border-color: transparent;\n",
              "      border-left-color: var(--fill-color);\n",
              "      border-top-color: var(--fill-color);\n",
              "      border-right-color: var(--fill-color);\n",
              "    }\n",
              "    40% {\n",
              "      border-color: transparent;\n",
              "      border-right-color: var(--fill-color);\n",
              "      border-top-color: var(--fill-color);\n",
              "    }\n",
              "    60% {\n",
              "      border-color: transparent;\n",
              "      border-right-color: var(--fill-color);\n",
              "    }\n",
              "    80% {\n",
              "      border-color: transparent;\n",
              "      border-right-color: var(--fill-color);\n",
              "      border-bottom-color: var(--fill-color);\n",
              "    }\n",
              "    90% {\n",
              "      border-color: transparent;\n",
              "      border-bottom-color: var(--fill-color);\n",
              "    }\n",
              "  }\n",
              "</style>\n",
              "\n",
              "  <script>\n",
              "    async function quickchart(key) {\n",
              "      const quickchartButtonEl =\n",
              "        document.querySelector('#' + key + ' button');\n",
              "      quickchartButtonEl.disabled = true;  // To prevent multiple clicks.\n",
              "      quickchartButtonEl.classList.add('colab-df-spinner');\n",
              "      try {\n",
              "        const charts = await google.colab.kernel.invokeFunction(\n",
              "            'suggestCharts', [key], {});\n",
              "      } catch (error) {\n",
              "        console.error('Error during call to suggestCharts:', error);\n",
              "      }\n",
              "      quickchartButtonEl.classList.remove('colab-df-spinner');\n",
              "      quickchartButtonEl.classList.add('colab-df-quickchart-complete');\n",
              "    }\n",
              "    (() => {\n",
              "      let quickchartButtonEl =\n",
              "        document.querySelector('#df-c0ca6473-7861-4bd2-981b-37991bd797a9 button');\n",
              "      quickchartButtonEl.style.display =\n",
              "        google.colab.kernel.accessAllowed ? 'block' : 'none';\n",
              "    })();\n",
              "  </script>\n",
              "</div>\n",
              "\n",
              "    </div>\n",
              "  </div>\n"
            ],
            "application/vnd.google.colaboratory.intrinsic+json": {
              "type": "dataframe",
              "summary": "{\n  \"name\": \"df\",\n  \"rows\": 8,\n  \"fields\": [\n    {\n      \"column\": \"age\",\n      \"properties\": {\n        \"dtype\": \"number\",\n        \"std\": 17254.515015865374,\n        \"min\": 13.710509934443555,\n        \"max\": 48842.0,\n        \"num_unique_values\": 8,\n        \"samples\": [\n          38.64358543876172,\n          37.0,\n          48842.0\n        ],\n        \"semantic_type\": \"\",\n        \"description\": \"\"\n      }\n    },\n    {\n      \"column\": \"fnlwgt\",\n      \"properties\": {\n        \"dtype\": \"number\",\n        \"std\": 487684.321495278,\n        \"min\": 12285.0,\n        \"max\": 1490400.0,\n        \"num_unique_values\": 8,\n        \"samples\": [\n          189664.13459727284,\n          178144.5,\n          48842.0\n        ],\n        \"semantic_type\": \"\",\n        \"description\": \"\"\n      }\n    },\n    {\n      \"column\": \"education-num\",\n      \"properties\": {\n        \"dtype\": \"number\",\n        \"std\": 17265.19214458616,\n        \"min\": 1.0,\n        \"max\": 48842.0,\n        \"num_unique_values\": 8,\n        \"samples\": [\n          10.078088530363212,\n          10.0,\n          48842.0\n        ],\n        \"semantic_type\": \"\",\n        \"description\": \"\"\n      }\n    },\n    {\n      \"column\": \"capital-gain\",\n      \"properties\": {\n        \"dtype\": \"number\",\n        \"std\": 36540.175993736855,\n        \"min\": 0.0,\n        \"max\": 99999.0,\n        \"num_unique_values\": 5,\n        \"samples\": [\n          1079.0676262233324,\n          99999.0,\n          7452.019057655394\n        ],\n        \"semantic_type\": \"\",\n        \"description\": \"\"\n      }\n    },\n    {\n      \"column\": \"capital-loss\",\n      \"properties\": {\n        \"dtype\": \"number\",\n        \"std\": 17089.590809028763,\n        \"min\": 0.0,\n        \"max\": 48842.0,\n        \"num_unique_values\": 5,\n        \"samples\": [\n          87.50231358257237,\n          4356.0,\n          403.00455212435907\n        ],\n        \"semantic_type\": \"\",\n        \"description\": \"\"\n      }\n    },\n    {\n      \"column\": \"hours-per-week\",\n      \"properties\": {\n        \"dtype\": \"number\",\n        \"std\": 17254.246950179113,\n        \"min\": 1.0,\n        \"max\": 48842.0,\n        \"num_unique_values\": 7,\n        \"samples\": [\n          48842.0,\n          40.422382375824085,\n          45.0\n        ],\n        \"semantic_type\": \"\",\n        \"description\": \"\"\n      }\n    }\n  ]\n}"
            }
          },
          "metadata": {},
          "execution_count": 572
        }
      ]
    },
    {
      "cell_type": "code",
      "source": [
        "df['income'].value_counts()"
      ],
      "metadata": {
        "colab": {
          "base_uri": "https://localhost:8080/"
        },
        "id": "6ek5mpm4LWmG",
        "outputId": "c9551f61-bd6e-46b3-993e-e5c7a1f06dac"
      },
      "execution_count": 573,
      "outputs": [
        {
          "output_type": "execute_result",
          "data": {
            "text/plain": [
              "<=50K     24720\n",
              "<=50K.    12435\n",
              ">50K       7841\n",
              ">50K.      3846\n",
              "Name: income, dtype: int64"
            ]
          },
          "metadata": {},
          "execution_count": 573
        }
      ]
    },
    {
      "cell_type": "code",
      "source": [
        "df['income'].replace({'<=50K.':'<=50K', '>50K.': '>50K'}, inplace = True)\n",
        "\n",
        "df.replace({'?': np.nan, ' ?': np.nan, '? ': np.nan, ' ? ': np.nan}, inplace = True)"
      ],
      "metadata": {
        "id": "A7DyvWghWzjb"
      },
      "execution_count": 574,
      "outputs": []
    },
    {
      "cell_type": "code",
      "source": [
        "df['income'].value_counts()"
      ],
      "metadata": {
        "colab": {
          "base_uri": "https://localhost:8080/"
        },
        "id": "v1YgIenKLkb_",
        "outputId": "5d9e1467-ce8d-4664-d8a9-75ef4ed46872"
      },
      "execution_count": 575,
      "outputs": [
        {
          "output_type": "execute_result",
          "data": {
            "text/plain": [
              "<=50K    37155\n",
              ">50K     11687\n",
              "Name: income, dtype: int64"
            ]
          },
          "metadata": {},
          "execution_count": 575
        }
      ]
    },
    {
      "cell_type": "code",
      "source": [
        "# Find rows with missing values\n",
        "missing_values = df[df.isnull().any(axis=1)]\n",
        "print(\"Rows with missing values\\n\", missing_values)"
      ],
      "metadata": {
        "colab": {
          "base_uri": "https://localhost:8080/"
        },
        "id": "XkXUZJrRRBxh",
        "outputId": "c2a7b51b-53cb-4f9e-9dcd-a51200f926ee"
      },
      "execution_count": 576,
      "outputs": [
        {
          "output_type": "stream",
          "name": "stdout",
          "text": [
            "Rows with missing values\n",
            "        age  workclass  fnlwgt     education  education-num  \\\n",
            "14      40    Private  121772     Assoc-voc             11   \n",
            "27      54        NaN  180211  Some-college             10   \n",
            "38      31    Private   84154  Some-college             10   \n",
            "51      18    Private  226956       HS-grad              9   \n",
            "61      32        NaN  293936       7th-8th              4   \n",
            "...    ...        ...     ...           ...            ...   \n",
            "48769   21        NaN  212661  Some-college             10   \n",
            "48800   73        NaN  144872       HS-grad              9   \n",
            "48812   81        NaN   26711     Assoc-voc             11   \n",
            "48826   50  Local-gov  139347       Masters             14   \n",
            "48838   64        NaN  321403       HS-grad              9   \n",
            "\n",
            "              marital-status      occupation    relationship  \\\n",
            "14        Married-civ-spouse    Craft-repair         Husband   \n",
            "27        Married-civ-spouse             NaN         Husband   \n",
            "38        Married-civ-spouse           Sales         Husband   \n",
            "51             Never-married   Other-service       Own-child   \n",
            "61     Married-spouse-absent             NaN   Not-in-family   \n",
            "...                      ...             ...             ...   \n",
            "48769          Never-married             NaN       Own-child   \n",
            "48800     Married-civ-spouse             NaN         Husband   \n",
            "48812     Married-civ-spouse             NaN         Husband   \n",
            "48826     Married-civ-spouse  Prof-specialty            Wife   \n",
            "48838                Widowed             NaN  Other-relative   \n",
            "\n",
            "                     race     sex  capital-gain  capital-loss  hours-per-week  \\\n",
            "14     Asian-Pac-Islander    Male             0             0              40   \n",
            "27     Asian-Pac-Islander    Male             0             0              60   \n",
            "38                  White    Male             0             0              38   \n",
            "51                  White  Female             0             0              30   \n",
            "61                  White    Male             0             0              40   \n",
            "...                   ...     ...           ...           ...             ...   \n",
            "48769               White  Female             0             0              30   \n",
            "48800               White    Male             0             0              25   \n",
            "48812               White    Male          2936             0              20   \n",
            "48826               White  Female             0             0              40   \n",
            "48838               Black    Male             0             0              40   \n",
            "\n",
            "      native-country income  \n",
            "14               NaN   >50K  \n",
            "27             South   >50K  \n",
            "38               NaN   >50K  \n",
            "51               NaN  <=50K  \n",
            "61               NaN  <=50K  \n",
            "...              ...    ...  \n",
            "48769  United-States  <=50K  \n",
            "48800         Canada  <=50K  \n",
            "48812  United-States  <=50K  \n",
            "48826            NaN   >50K  \n",
            "48838  United-States  <=50K  \n",
            "\n",
            "[3620 rows x 15 columns]\n"
          ]
        }
      ]
    },
    {
      "cell_type": "code",
      "source": [
        "print(\"Missing Values \")\n",
        "df.isna().sum()"
      ],
      "metadata": {
        "colab": {
          "base_uri": "https://localhost:8080/"
        },
        "id": "0lt8m9BxzDZD",
        "outputId": "2d9c90fd-0c9d-431f-efd7-7b236d7bd0e7"
      },
      "execution_count": 577,
      "outputs": [
        {
          "output_type": "stream",
          "name": "stdout",
          "text": [
            "Missing Values \n"
          ]
        },
        {
          "output_type": "execute_result",
          "data": {
            "text/plain": [
              "age                  0\n",
              "workclass         2799\n",
              "fnlwgt               0\n",
              "education            0\n",
              "education-num        0\n",
              "marital-status       0\n",
              "occupation        2809\n",
              "relationship         0\n",
              "race                 0\n",
              "sex                  0\n",
              "capital-gain         0\n",
              "capital-loss         0\n",
              "hours-per-week       0\n",
              "native-country     857\n",
              "income               0\n",
              "dtype: int64"
            ]
          },
          "metadata": {},
          "execution_count": 577
        }
      ]
    },
    {
      "cell_type": "code",
      "source": [
        "# replacing NaN values with the mode of respective columns\n",
        "for column in df.columns:\n",
        "  mode_value = df[column].mode()[0]\n",
        "  df[column].fillna(mode_value, inplace = True)\n",
        "\n",
        "print(\"Missing Values\")\n",
        "print (df.isnull().sum())"
      ],
      "metadata": {
        "colab": {
          "base_uri": "https://localhost:8080/"
        },
        "id": "ZeQn2K3hzWnZ",
        "outputId": "cf9884ad-b970-46df-ec56-fdee6333e9c9"
      },
      "execution_count": 578,
      "outputs": [
        {
          "output_type": "stream",
          "name": "stdout",
          "text": [
            "Missing Values\n",
            "age               0\n",
            "workclass         0\n",
            "fnlwgt            0\n",
            "education         0\n",
            "education-num     0\n",
            "marital-status    0\n",
            "occupation        0\n",
            "relationship      0\n",
            "race              0\n",
            "sex               0\n",
            "capital-gain      0\n",
            "capital-loss      0\n",
            "hours-per-week    0\n",
            "native-country    0\n",
            "income            0\n",
            "dtype: int64\n"
          ]
        }
      ]
    },
    {
      "cell_type": "code",
      "source": [
        "# find duplicate values in the dataset\n",
        "print (df[df.duplicated()])"
      ],
      "metadata": {
        "colab": {
          "base_uri": "https://localhost:8080/"
        },
        "id": "B4dDoQiIRJwz",
        "outputId": "ec9666d4-5484-49bd-e396-0e3722f49dca"
      },
      "execution_count": 579,
      "outputs": [
        {
          "output_type": "stream",
          "name": "stdout",
          "text": [
            "       age         workclass  fnlwgt     education  education-num  \\\n",
            "4881    25           Private  308144     Bachelors             13   \n",
            "5104    90           Private   52386  Some-college             10   \n",
            "9171    21           Private  250051  Some-college             10   \n",
            "11631   20           Private  107658  Some-college             10   \n",
            "13084   25           Private  195994       1st-4th              2   \n",
            "15059   21           Private  243368     Preschool              1   \n",
            "17040   46           Private  173243       HS-grad              9   \n",
            "18555   30           Private  144593       HS-grad              9   \n",
            "18698   19           Private   97261       HS-grad              9   \n",
            "21318   19           Private  138153  Some-college             10   \n",
            "21490   19           Private  146679  Some-college             10   \n",
            "21875   49           Private   31267       7th-8th              4   \n",
            "22300   25           Private  195994       1st-4th              2   \n",
            "22367   44           Private  367749     Bachelors             13   \n",
            "22494   49  Self-emp-not-inc   43479  Some-college             10   \n",
            "25872   23           Private  240137       5th-6th              3   \n",
            "26313   28           Private  274679       Masters             14   \n",
            "28230   27           Private  255582       HS-grad              9   \n",
            "28522   42           Private  204235  Some-college             10   \n",
            "28846   39           Private   30916       HS-grad              9   \n",
            "29157   38           Private  207202       HS-grad              9   \n",
            "30845   46           Private  133616  Some-college             10   \n",
            "31993   19           Private  251579  Some-college             10   \n",
            "32404   35           Private  379959       HS-grad              9   \n",
            "33425   24           Private  194630     Bachelors             13   \n",
            "34229   19           Private  130431       5th-6th              3   \n",
            "34415   22           Private  137876  Some-college             10   \n",
            "34424   20           Private  203353  Some-college             10   \n",
            "36713   17           Private  153021          12th              8   \n",
            "37419   22           Private  157332  Some-college             10   \n",
            "37639   29           Private   41281     Bachelors             13   \n",
            "38343   21           Private  301694       HS-grad              9   \n",
            "38468   41           Private  116391     Bachelors             13   \n",
            "38993   22           Private  334593  Some-college             10   \n",
            "39017   19           Private  139466  Some-college             10   \n",
            "39911   30           Private  111567       HS-grad              9   \n",
            "40677   19           Private  167428  Some-college             10   \n",
            "42386   25           Private  112835     Bachelors             13   \n",
            "43387   23           Private  250630     Bachelors             13   \n",
            "43484   23           Private  239539       HS-grad              9   \n",
            "43750   37           Private   52870     Bachelors             13   \n",
            "43773   29           Private   36440     Bachelors             13   \n",
            "44307   47           Private  199058  Some-college             10   \n",
            "45049   39           Private  184659       HS-grad              9   \n",
            "46065   45           Private   82797     Bachelors             13   \n",
            "46409   30           Private  180317     Assoc-voc             11   \n",
            "46714   21           Private  243368     Preschool              1   \n",
            "46869   25           Private  308144     Bachelors             13   \n",
            "46959   19           Private  318822       HS-grad              9   \n",
            "47048   31           Private  228873       HS-grad              9   \n",
            "47399   43           Private  195258       HS-grad              9   \n",
            "47884   23           Private  107882     Bachelors             13   \n",
            "48521   18      Self-emp-inc  378036          12th              8   \n",
            "\n",
            "              marital-status         occupation   relationship  \\\n",
            "4881           Never-married       Craft-repair  Not-in-family   \n",
            "5104           Never-married      Other-service  Not-in-family   \n",
            "9171           Never-married     Prof-specialty      Own-child   \n",
            "11631          Never-married       Tech-support  Not-in-family   \n",
            "13084          Never-married    Priv-house-serv  Not-in-family   \n",
            "15059          Never-married    Farming-fishing  Not-in-family   \n",
            "17040     Married-civ-spouse       Craft-repair        Husband   \n",
            "18555          Never-married      Other-service  Not-in-family   \n",
            "18698          Never-married    Farming-fishing  Not-in-family   \n",
            "21318          Never-married       Adm-clerical      Own-child   \n",
            "21490          Never-married    Exec-managerial      Own-child   \n",
            "21875     Married-civ-spouse       Craft-repair        Husband   \n",
            "22300          Never-married    Priv-house-serv  Not-in-family   \n",
            "22367          Never-married     Prof-specialty  Not-in-family   \n",
            "22494     Married-civ-spouse       Craft-repair        Husband   \n",
            "25872          Never-married  Handlers-cleaners  Not-in-family   \n",
            "26313          Never-married     Prof-specialty  Not-in-family   \n",
            "28230          Never-married  Machine-op-inspct  Not-in-family   \n",
            "28522     Married-civ-spouse     Prof-specialty        Husband   \n",
            "28846     Married-civ-spouse       Craft-repair        Husband   \n",
            "29157     Married-civ-spouse  Machine-op-inspct        Husband   \n",
            "30845               Divorced       Adm-clerical      Unmarried   \n",
            "31993          Never-married      Other-service      Own-child   \n",
            "32404               Divorced      Other-service  Not-in-family   \n",
            "33425          Never-married     Prof-specialty  Not-in-family   \n",
            "34229          Never-married    Farming-fishing  Not-in-family   \n",
            "34415          Never-married    Protective-serv  Not-in-family   \n",
            "34424          Never-married     Prof-specialty      Own-child   \n",
            "36713          Never-married              Sales      Own-child   \n",
            "37419          Never-married     Prof-specialty      Own-child   \n",
            "37639  Married-spouse-absent     Prof-specialty  Not-in-family   \n",
            "38343          Never-married       Craft-repair  Not-in-family   \n",
            "38468     Married-civ-spouse    Exec-managerial        Husband   \n",
            "38993          Never-married     Prof-specialty  Not-in-family   \n",
            "39017          Never-married              Sales      Own-child   \n",
            "39911          Never-married       Craft-repair      Own-child   \n",
            "40677          Never-married     Prof-specialty      Own-child   \n",
            "42386          Never-married     Prof-specialty  Not-in-family   \n",
            "43387          Never-married              Sales  Not-in-family   \n",
            "43484          Never-married  Machine-op-inspct      Own-child   \n",
            "43750     Married-civ-spouse    Exec-managerial        Husband   \n",
            "43773          Never-married       Adm-clerical  Not-in-family   \n",
            "44307     Married-civ-spouse     Prof-specialty        Husband   \n",
            "45049     Married-civ-spouse  Machine-op-inspct        Husband   \n",
            "46065     Married-civ-spouse    Exec-managerial        Husband   \n",
            "46409               Divorced  Machine-op-inspct  Not-in-family   \n",
            "46714          Never-married    Farming-fishing  Not-in-family   \n",
            "46869          Never-married       Craft-repair  Not-in-family   \n",
            "46959          Never-married       Adm-clerical  Not-in-family   \n",
            "47048     Married-civ-spouse       Craft-repair        Husband   \n",
            "47399     Married-civ-spouse       Craft-repair        Husband   \n",
            "47884          Never-married       Adm-clerical      Own-child   \n",
            "48521          Never-married    Farming-fishing      Own-child   \n",
            "\n",
            "                     race     sex  capital-gain  capital-loss  hours-per-week  \\\n",
            "4881                White    Male             0             0              40   \n",
            "5104   Asian-Pac-Islander    Male             0             0              35   \n",
            "9171                White  Female             0             0              10   \n",
            "11631               White  Female             0             0              10   \n",
            "13084               White  Female             0             0              40   \n",
            "15059               White    Male             0             0              50   \n",
            "17040               White    Male             0             0              40   \n",
            "18555               Black    Male             0             0              40   \n",
            "18698               White    Male             0             0              40   \n",
            "21318               White  Female             0             0              10   \n",
            "21490               Black    Male             0             0              30   \n",
            "21875               White    Male             0             0              40   \n",
            "22300               White  Female             0             0              40   \n",
            "22367               White  Female             0             0              45   \n",
            "22494               White    Male             0             0              40   \n",
            "25872               White    Male             0             0              55   \n",
            "26313               White    Male             0             0              50   \n",
            "28230               White  Female             0             0              40   \n",
            "28522               White    Male             0             0              40   \n",
            "28846               White    Male             0             0              40   \n",
            "29157               White    Male             0             0              48   \n",
            "30845               White  Female             0             0              40   \n",
            "31993               White    Male             0             0              14   \n",
            "32404               White  Female             0             0              40   \n",
            "33425               White    Male             0             0              35   \n",
            "34229               White    Male             0             0              36   \n",
            "34415               White    Male             0             0              20   \n",
            "34424               White  Female             0             0              40   \n",
            "36713               White  Female             0             0              20   \n",
            "37419               White  Female             0             0              40   \n",
            "37639               White    Male             0             0              50   \n",
            "38343               White    Male             0             0              35   \n",
            "38468               White    Male             0             0              40   \n",
            "38993               White    Male             0             0              40   \n",
            "39017               White  Female             0             0              25   \n",
            "39911               White    Male             0             0              48   \n",
            "40677               White    Male             0             0              40   \n",
            "42386               White    Male             0             0              40   \n",
            "43387               White  Female             0             0              40   \n",
            "43484  Asian-Pac-Islander    Male             0             0              40   \n",
            "43750               White    Male             0             0              40   \n",
            "43773               White  Female             0             0              40   \n",
            "44307               White    Male             0             0              40   \n",
            "45049               White    Male             0             0              40   \n",
            "46065               White    Male             0             0              45   \n",
            "46409               White    Male             0             0              40   \n",
            "46714               White    Male             0             0              50   \n",
            "46869               White    Male             0             0              40   \n",
            "46959               White  Female             0             0              40   \n",
            "47048               White    Male             0             0              40   \n",
            "47399               White    Male             0             0              40   \n",
            "47884               White  Female             0             0              40   \n",
            "48521               White    Male             0             0              10   \n",
            "\n",
            "      native-country income  \n",
            "4881          Mexico  <=50K  \n",
            "5104   United-States  <=50K  \n",
            "9171   United-States  <=50K  \n",
            "11631  United-States  <=50K  \n",
            "13084      Guatemala  <=50K  \n",
            "15059         Mexico  <=50K  \n",
            "17040  United-States  <=50K  \n",
            "18555  United-States  <=50K  \n",
            "18698  United-States  <=50K  \n",
            "21318  United-States  <=50K  \n",
            "21490  United-States  <=50K  \n",
            "21875  United-States  <=50K  \n",
            "22300      Guatemala  <=50K  \n",
            "22367         Mexico  <=50K  \n",
            "22494  United-States  <=50K  \n",
            "25872         Mexico  <=50K  \n",
            "26313  United-States  <=50K  \n",
            "28230  United-States  <=50K  \n",
            "28522  United-States   >50K  \n",
            "28846  United-States  <=50K  \n",
            "29157  United-States   >50K  \n",
            "30845  United-States  <=50K  \n",
            "31993  United-States  <=50K  \n",
            "32404  United-States  <=50K  \n",
            "33425  United-States  <=50K  \n",
            "34229         Mexico  <=50K  \n",
            "34415  United-States  <=50K  \n",
            "34424  United-States  <=50K  \n",
            "36713  United-States  <=50K  \n",
            "37419  United-States  <=50K  \n",
            "37639  United-States  <=50K  \n",
            "38343         Mexico  <=50K  \n",
            "38468  United-States   >50K  \n",
            "38993  United-States  <=50K  \n",
            "39017  United-States  <=50K  \n",
            "39911  United-States  <=50K  \n",
            "40677  United-States  <=50K  \n",
            "42386  United-States  <=50K  \n",
            "43387  United-States  <=50K  \n",
            "43484    Philippines  <=50K  \n",
            "43750  United-States  <=50K  \n",
            "43773  United-States  <=50K  \n",
            "44307  United-States   >50K  \n",
            "45049  United-States  <=50K  \n",
            "46065  United-States   >50K  \n",
            "46409  United-States  <=50K  \n",
            "46714         Mexico  <=50K  \n",
            "46869         Mexico  <=50K  \n",
            "46959  United-States  <=50K  \n",
            "47048  United-States  <=50K  \n",
            "47399  United-States   >50K  \n",
            "47884  United-States  <=50K  \n",
            "48521  United-States  <=50K  \n"
          ]
        }
      ]
    },
    {
      "cell_type": "code",
      "source": [
        "df.shape"
      ],
      "metadata": {
        "colab": {
          "base_uri": "https://localhost:8080/"
        },
        "id": "YvIDrFrZrRA8",
        "outputId": "1533c18d-0bca-471d-a3db-437caa84def5"
      },
      "execution_count": 580,
      "outputs": [
        {
          "output_type": "execute_result",
          "data": {
            "text/plain": [
              "(48842, 15)"
            ]
          },
          "metadata": {},
          "execution_count": 580
        }
      ]
    },
    {
      "cell_type": "code",
      "source": [
        "# drop duplicates\n",
        "df = df.drop_duplicates()\n",
        "\n",
        "# find duplicate values in the dataset\n",
        "print (df[df.duplicated()])"
      ],
      "metadata": {
        "colab": {
          "base_uri": "https://localhost:8080/"
        },
        "id": "_uac-LhA06Ok",
        "outputId": "0b5f69cb-062c-43fe-f28e-09c8d6adb703"
      },
      "execution_count": 581,
      "outputs": [
        {
          "output_type": "stream",
          "name": "stdout",
          "text": [
            "Empty DataFrame\n",
            "Columns: [age, workclass, fnlwgt, education, education-num, marital-status, occupation, relationship, race, sex, capital-gain, capital-loss, hours-per-week, native-country, income]\n",
            "Index: []\n"
          ]
        }
      ]
    },
    {
      "cell_type": "code",
      "source": [
        "df.shape"
      ],
      "metadata": {
        "colab": {
          "base_uri": "https://localhost:8080/"
        },
        "id": "djtWcnFArS44",
        "outputId": "bf1fce42-f270-45c6-9907-b059718d2b9d"
      },
      "execution_count": 582,
      "outputs": [
        {
          "output_type": "execute_result",
          "data": {
            "text/plain": [
              "(48789, 15)"
            ]
          },
          "metadata": {},
          "execution_count": 582
        }
      ]
    },
    {
      "cell_type": "code",
      "source": [
        "df.head()"
      ],
      "metadata": {
        "colab": {
          "base_uri": "https://localhost:8080/",
          "height": 399
        },
        "id": "TCG93EgUDF3C",
        "outputId": "47f89a23-22e2-466f-cf53-984f8ecf4cdd"
      },
      "execution_count": 583,
      "outputs": [
        {
          "output_type": "execute_result",
          "data": {
            "text/plain": [
              "   age         workclass  fnlwgt  education  education-num  \\\n",
              "0   39         State-gov   77516  Bachelors             13   \n",
              "1   50  Self-emp-not-inc   83311  Bachelors             13   \n",
              "2   38           Private  215646    HS-grad              9   \n",
              "3   53           Private  234721       11th              7   \n",
              "4   28           Private  338409  Bachelors             13   \n",
              "\n",
              "       marital-status         occupation   relationship   race     sex  \\\n",
              "0       Never-married       Adm-clerical  Not-in-family  White    Male   \n",
              "1  Married-civ-spouse    Exec-managerial        Husband  White    Male   \n",
              "2            Divorced  Handlers-cleaners  Not-in-family  White    Male   \n",
              "3  Married-civ-spouse  Handlers-cleaners        Husband  Black    Male   \n",
              "4  Married-civ-spouse     Prof-specialty           Wife  Black  Female   \n",
              "\n",
              "   capital-gain  capital-loss  hours-per-week native-country income  \n",
              "0          2174             0              40  United-States  <=50K  \n",
              "1             0             0              13  United-States  <=50K  \n",
              "2             0             0              40  United-States  <=50K  \n",
              "3             0             0              40  United-States  <=50K  \n",
              "4             0             0              40           Cuba  <=50K  "
            ],
            "text/html": [
              "\n",
              "  <div id=\"df-67a52076-7d9f-43f8-93f0-ed5be85fff3e\" class=\"colab-df-container\">\n",
              "    <div>\n",
              "<style scoped>\n",
              "    .dataframe tbody tr th:only-of-type {\n",
              "        vertical-align: middle;\n",
              "    }\n",
              "\n",
              "    .dataframe tbody tr th {\n",
              "        vertical-align: top;\n",
              "    }\n",
              "\n",
              "    .dataframe thead th {\n",
              "        text-align: right;\n",
              "    }\n",
              "</style>\n",
              "<table border=\"1\" class=\"dataframe\">\n",
              "  <thead>\n",
              "    <tr style=\"text-align: right;\">\n",
              "      <th></th>\n",
              "      <th>age</th>\n",
              "      <th>workclass</th>\n",
              "      <th>fnlwgt</th>\n",
              "      <th>education</th>\n",
              "      <th>education-num</th>\n",
              "      <th>marital-status</th>\n",
              "      <th>occupation</th>\n",
              "      <th>relationship</th>\n",
              "      <th>race</th>\n",
              "      <th>sex</th>\n",
              "      <th>capital-gain</th>\n",
              "      <th>capital-loss</th>\n",
              "      <th>hours-per-week</th>\n",
              "      <th>native-country</th>\n",
              "      <th>income</th>\n",
              "    </tr>\n",
              "  </thead>\n",
              "  <tbody>\n",
              "    <tr>\n",
              "      <th>0</th>\n",
              "      <td>39</td>\n",
              "      <td>State-gov</td>\n",
              "      <td>77516</td>\n",
              "      <td>Bachelors</td>\n",
              "      <td>13</td>\n",
              "      <td>Never-married</td>\n",
              "      <td>Adm-clerical</td>\n",
              "      <td>Not-in-family</td>\n",
              "      <td>White</td>\n",
              "      <td>Male</td>\n",
              "      <td>2174</td>\n",
              "      <td>0</td>\n",
              "      <td>40</td>\n",
              "      <td>United-States</td>\n",
              "      <td>&lt;=50K</td>\n",
              "    </tr>\n",
              "    <tr>\n",
              "      <th>1</th>\n",
              "      <td>50</td>\n",
              "      <td>Self-emp-not-inc</td>\n",
              "      <td>83311</td>\n",
              "      <td>Bachelors</td>\n",
              "      <td>13</td>\n",
              "      <td>Married-civ-spouse</td>\n",
              "      <td>Exec-managerial</td>\n",
              "      <td>Husband</td>\n",
              "      <td>White</td>\n",
              "      <td>Male</td>\n",
              "      <td>0</td>\n",
              "      <td>0</td>\n",
              "      <td>13</td>\n",
              "      <td>United-States</td>\n",
              "      <td>&lt;=50K</td>\n",
              "    </tr>\n",
              "    <tr>\n",
              "      <th>2</th>\n",
              "      <td>38</td>\n",
              "      <td>Private</td>\n",
              "      <td>215646</td>\n",
              "      <td>HS-grad</td>\n",
              "      <td>9</td>\n",
              "      <td>Divorced</td>\n",
              "      <td>Handlers-cleaners</td>\n",
              "      <td>Not-in-family</td>\n",
              "      <td>White</td>\n",
              "      <td>Male</td>\n",
              "      <td>0</td>\n",
              "      <td>0</td>\n",
              "      <td>40</td>\n",
              "      <td>United-States</td>\n",
              "      <td>&lt;=50K</td>\n",
              "    </tr>\n",
              "    <tr>\n",
              "      <th>3</th>\n",
              "      <td>53</td>\n",
              "      <td>Private</td>\n",
              "      <td>234721</td>\n",
              "      <td>11th</td>\n",
              "      <td>7</td>\n",
              "      <td>Married-civ-spouse</td>\n",
              "      <td>Handlers-cleaners</td>\n",
              "      <td>Husband</td>\n",
              "      <td>Black</td>\n",
              "      <td>Male</td>\n",
              "      <td>0</td>\n",
              "      <td>0</td>\n",
              "      <td>40</td>\n",
              "      <td>United-States</td>\n",
              "      <td>&lt;=50K</td>\n",
              "    </tr>\n",
              "    <tr>\n",
              "      <th>4</th>\n",
              "      <td>28</td>\n",
              "      <td>Private</td>\n",
              "      <td>338409</td>\n",
              "      <td>Bachelors</td>\n",
              "      <td>13</td>\n",
              "      <td>Married-civ-spouse</td>\n",
              "      <td>Prof-specialty</td>\n",
              "      <td>Wife</td>\n",
              "      <td>Black</td>\n",
              "      <td>Female</td>\n",
              "      <td>0</td>\n",
              "      <td>0</td>\n",
              "      <td>40</td>\n",
              "      <td>Cuba</td>\n",
              "      <td>&lt;=50K</td>\n",
              "    </tr>\n",
              "  </tbody>\n",
              "</table>\n",
              "</div>\n",
              "    <div class=\"colab-df-buttons\">\n",
              "\n",
              "  <div class=\"colab-df-container\">\n",
              "    <button class=\"colab-df-convert\" onclick=\"convertToInteractive('df-67a52076-7d9f-43f8-93f0-ed5be85fff3e')\"\n",
              "            title=\"Convert this dataframe to an interactive table.\"\n",
              "            style=\"display:none;\">\n",
              "\n",
              "  <svg xmlns=\"http://www.w3.org/2000/svg\" height=\"24px\" viewBox=\"0 -960 960 960\">\n",
              "    <path d=\"M120-120v-720h720v720H120Zm60-500h600v-160H180v160Zm220 220h160v-160H400v160Zm0 220h160v-160H400v160ZM180-400h160v-160H180v160Zm440 0h160v-160H620v160ZM180-180h160v-160H180v160Zm440 0h160v-160H620v160Z\"/>\n",
              "  </svg>\n",
              "    </button>\n",
              "\n",
              "  <style>\n",
              "    .colab-df-container {\n",
              "      display:flex;\n",
              "      gap: 12px;\n",
              "    }\n",
              "\n",
              "    .colab-df-convert {\n",
              "      background-color: #E8F0FE;\n",
              "      border: none;\n",
              "      border-radius: 50%;\n",
              "      cursor: pointer;\n",
              "      display: none;\n",
              "      fill: #1967D2;\n",
              "      height: 32px;\n",
              "      padding: 0 0 0 0;\n",
              "      width: 32px;\n",
              "    }\n",
              "\n",
              "    .colab-df-convert:hover {\n",
              "      background-color: #E2EBFA;\n",
              "      box-shadow: 0px 1px 2px rgba(60, 64, 67, 0.3), 0px 1px 3px 1px rgba(60, 64, 67, 0.15);\n",
              "      fill: #174EA6;\n",
              "    }\n",
              "\n",
              "    .colab-df-buttons div {\n",
              "      margin-bottom: 4px;\n",
              "    }\n",
              "\n",
              "    [theme=dark] .colab-df-convert {\n",
              "      background-color: #3B4455;\n",
              "      fill: #D2E3FC;\n",
              "    }\n",
              "\n",
              "    [theme=dark] .colab-df-convert:hover {\n",
              "      background-color: #434B5C;\n",
              "      box-shadow: 0px 1px 3px 1px rgba(0, 0, 0, 0.15);\n",
              "      filter: drop-shadow(0px 1px 2px rgba(0, 0, 0, 0.3));\n",
              "      fill: #FFFFFF;\n",
              "    }\n",
              "  </style>\n",
              "\n",
              "    <script>\n",
              "      const buttonEl =\n",
              "        document.querySelector('#df-67a52076-7d9f-43f8-93f0-ed5be85fff3e button.colab-df-convert');\n",
              "      buttonEl.style.display =\n",
              "        google.colab.kernel.accessAllowed ? 'block' : 'none';\n",
              "\n",
              "      async function convertToInteractive(key) {\n",
              "        const element = document.querySelector('#df-67a52076-7d9f-43f8-93f0-ed5be85fff3e');\n",
              "        const dataTable =\n",
              "          await google.colab.kernel.invokeFunction('convertToInteractive',\n",
              "                                                    [key], {});\n",
              "        if (!dataTable) return;\n",
              "\n",
              "        const docLinkHtml = 'Like what you see? Visit the ' +\n",
              "          '<a target=\"_blank\" href=https://colab.research.google.com/notebooks/data_table.ipynb>data table notebook</a>'\n",
              "          + ' to learn more about interactive tables.';\n",
              "        element.innerHTML = '';\n",
              "        dataTable['output_type'] = 'display_data';\n",
              "        await google.colab.output.renderOutput(dataTable, element);\n",
              "        const docLink = document.createElement('div');\n",
              "        docLink.innerHTML = docLinkHtml;\n",
              "        element.appendChild(docLink);\n",
              "      }\n",
              "    </script>\n",
              "  </div>\n",
              "\n",
              "\n",
              "<div id=\"df-010f154c-e8dc-4389-8e83-3ff9e85c6f4f\">\n",
              "  <button class=\"colab-df-quickchart\" onclick=\"quickchart('df-010f154c-e8dc-4389-8e83-3ff9e85c6f4f')\"\n",
              "            title=\"Suggest charts\"\n",
              "            style=\"display:none;\">\n",
              "\n",
              "<svg xmlns=\"http://www.w3.org/2000/svg\" height=\"24px\"viewBox=\"0 0 24 24\"\n",
              "     width=\"24px\">\n",
              "    <g>\n",
              "        <path d=\"M19 3H5c-1.1 0-2 .9-2 2v14c0 1.1.9 2 2 2h14c1.1 0 2-.9 2-2V5c0-1.1-.9-2-2-2zM9 17H7v-7h2v7zm4 0h-2V7h2v10zm4 0h-2v-4h2v4z\"/>\n",
              "    </g>\n",
              "</svg>\n",
              "  </button>\n",
              "\n",
              "<style>\n",
              "  .colab-df-quickchart {\n",
              "      --bg-color: #E8F0FE;\n",
              "      --fill-color: #1967D2;\n",
              "      --hover-bg-color: #E2EBFA;\n",
              "      --hover-fill-color: #174EA6;\n",
              "      --disabled-fill-color: #AAA;\n",
              "      --disabled-bg-color: #DDD;\n",
              "  }\n",
              "\n",
              "  [theme=dark] .colab-df-quickchart {\n",
              "      --bg-color: #3B4455;\n",
              "      --fill-color: #D2E3FC;\n",
              "      --hover-bg-color: #434B5C;\n",
              "      --hover-fill-color: #FFFFFF;\n",
              "      --disabled-bg-color: #3B4455;\n",
              "      --disabled-fill-color: #666;\n",
              "  }\n",
              "\n",
              "  .colab-df-quickchart {\n",
              "    background-color: var(--bg-color);\n",
              "    border: none;\n",
              "    border-radius: 50%;\n",
              "    cursor: pointer;\n",
              "    display: none;\n",
              "    fill: var(--fill-color);\n",
              "    height: 32px;\n",
              "    padding: 0;\n",
              "    width: 32px;\n",
              "  }\n",
              "\n",
              "  .colab-df-quickchart:hover {\n",
              "    background-color: var(--hover-bg-color);\n",
              "    box-shadow: 0 1px 2px rgba(60, 64, 67, 0.3), 0 1px 3px 1px rgba(60, 64, 67, 0.15);\n",
              "    fill: var(--button-hover-fill-color);\n",
              "  }\n",
              "\n",
              "  .colab-df-quickchart-complete:disabled,\n",
              "  .colab-df-quickchart-complete:disabled:hover {\n",
              "    background-color: var(--disabled-bg-color);\n",
              "    fill: var(--disabled-fill-color);\n",
              "    box-shadow: none;\n",
              "  }\n",
              "\n",
              "  .colab-df-spinner {\n",
              "    border: 2px solid var(--fill-color);\n",
              "    border-color: transparent;\n",
              "    border-bottom-color: var(--fill-color);\n",
              "    animation:\n",
              "      spin 1s steps(1) infinite;\n",
              "  }\n",
              "\n",
              "  @keyframes spin {\n",
              "    0% {\n",
              "      border-color: transparent;\n",
              "      border-bottom-color: var(--fill-color);\n",
              "      border-left-color: var(--fill-color);\n",
              "    }\n",
              "    20% {\n",
              "      border-color: transparent;\n",
              "      border-left-color: var(--fill-color);\n",
              "      border-top-color: var(--fill-color);\n",
              "    }\n",
              "    30% {\n",
              "      border-color: transparent;\n",
              "      border-left-color: var(--fill-color);\n",
              "      border-top-color: var(--fill-color);\n",
              "      border-right-color: var(--fill-color);\n",
              "    }\n",
              "    40% {\n",
              "      border-color: transparent;\n",
              "      border-right-color: var(--fill-color);\n",
              "      border-top-color: var(--fill-color);\n",
              "    }\n",
              "    60% {\n",
              "      border-color: transparent;\n",
              "      border-right-color: var(--fill-color);\n",
              "    }\n",
              "    80% {\n",
              "      border-color: transparent;\n",
              "      border-right-color: var(--fill-color);\n",
              "      border-bottom-color: var(--fill-color);\n",
              "    }\n",
              "    90% {\n",
              "      border-color: transparent;\n",
              "      border-bottom-color: var(--fill-color);\n",
              "    }\n",
              "  }\n",
              "</style>\n",
              "\n",
              "  <script>\n",
              "    async function quickchart(key) {\n",
              "      const quickchartButtonEl =\n",
              "        document.querySelector('#' + key + ' button');\n",
              "      quickchartButtonEl.disabled = true;  // To prevent multiple clicks.\n",
              "      quickchartButtonEl.classList.add('colab-df-spinner');\n",
              "      try {\n",
              "        const charts = await google.colab.kernel.invokeFunction(\n",
              "            'suggestCharts', [key], {});\n",
              "      } catch (error) {\n",
              "        console.error('Error during call to suggestCharts:', error);\n",
              "      }\n",
              "      quickchartButtonEl.classList.remove('colab-df-spinner');\n",
              "      quickchartButtonEl.classList.add('colab-df-quickchart-complete');\n",
              "    }\n",
              "    (() => {\n",
              "      let quickchartButtonEl =\n",
              "        document.querySelector('#df-010f154c-e8dc-4389-8e83-3ff9e85c6f4f button');\n",
              "      quickchartButtonEl.style.display =\n",
              "        google.colab.kernel.accessAllowed ? 'block' : 'none';\n",
              "    })();\n",
              "  </script>\n",
              "</div>\n",
              "\n",
              "    </div>\n",
              "  </div>\n"
            ],
            "application/vnd.google.colaboratory.intrinsic+json": {
              "type": "dataframe",
              "variable_name": "df",
              "summary": "{\n  \"name\": \"df\",\n  \"rows\": 48789,\n  \"fields\": [\n    {\n      \"column\": \"age\",\n      \"properties\": {\n        \"dtype\": \"number\",\n        \"std\": 13,\n        \"min\": 17,\n        \"max\": 90,\n        \"num_unique_values\": 74,\n        \"samples\": [\n          28,\n          73,\n          35\n        ],\n        \"semantic_type\": \"\",\n        \"description\": \"\"\n      }\n    },\n    {\n      \"column\": \"workclass\",\n      \"properties\": {\n        \"dtype\": \"category\",\n        \"num_unique_values\": 8,\n        \"samples\": [\n          \"Self-emp-not-inc\",\n          \"Self-emp-inc\",\n          \"State-gov\"\n        ],\n        \"semantic_type\": \"\",\n        \"description\": \"\"\n      }\n    },\n    {\n      \"column\": \"fnlwgt\",\n      \"properties\": {\n        \"dtype\": \"number\",\n        \"std\": 105618,\n        \"min\": 12285,\n        \"max\": 1490400,\n        \"num_unique_values\": 28523,\n        \"samples\": [\n          159077,\n          199450,\n          181773\n        ],\n        \"semantic_type\": \"\",\n        \"description\": \"\"\n      }\n    },\n    {\n      \"column\": \"education\",\n      \"properties\": {\n        \"dtype\": \"category\",\n        \"num_unique_values\": 16,\n        \"samples\": [\n          \"Bachelors\",\n          \"HS-grad\",\n          \"Some-college\"\n        ],\n        \"semantic_type\": \"\",\n        \"description\": \"\"\n      }\n    },\n    {\n      \"column\": \"education-num\",\n      \"properties\": {\n        \"dtype\": \"number\",\n        \"std\": 2,\n        \"min\": 1,\n        \"max\": 16,\n        \"num_unique_values\": 16,\n        \"samples\": [\n          13,\n          9,\n          10\n        ],\n        \"semantic_type\": \"\",\n        \"description\": \"\"\n      }\n    },\n    {\n      \"column\": \"marital-status\",\n      \"properties\": {\n        \"dtype\": \"category\",\n        \"num_unique_values\": 7,\n        \"samples\": [\n          \"Never-married\",\n          \"Married-civ-spouse\",\n          \"Married-AF-spouse\"\n        ],\n        \"semantic_type\": \"\",\n        \"description\": \"\"\n      }\n    },\n    {\n      \"column\": \"occupation\",\n      \"properties\": {\n        \"dtype\": \"category\",\n        \"num_unique_values\": 14,\n        \"samples\": [\n          \"Machine-op-inspct\",\n          \"Protective-serv\",\n          \"Adm-clerical\"\n        ],\n        \"semantic_type\": \"\",\n        \"description\": \"\"\n      }\n    },\n    {\n      \"column\": \"relationship\",\n      \"properties\": {\n        \"dtype\": \"category\",\n        \"num_unique_values\": 6,\n        \"samples\": [\n          \"Not-in-family\",\n          \"Husband\",\n          \"Other-relative\"\n        ],\n        \"semantic_type\": \"\",\n        \"description\": \"\"\n      }\n    },\n    {\n      \"column\": \"race\",\n      \"properties\": {\n        \"dtype\": \"category\",\n        \"num_unique_values\": 5,\n        \"samples\": [\n          \"Black\",\n          \"Other\",\n          \"Asian-Pac-Islander\"\n        ],\n        \"semantic_type\": \"\",\n        \"description\": \"\"\n      }\n    },\n    {\n      \"column\": \"sex\",\n      \"properties\": {\n        \"dtype\": \"category\",\n        \"num_unique_values\": 2,\n        \"samples\": [\n          \"Female\",\n          \"Male\"\n        ],\n        \"semantic_type\": \"\",\n        \"description\": \"\"\n      }\n    },\n    {\n      \"column\": \"capital-gain\",\n      \"properties\": {\n        \"dtype\": \"number\",\n        \"std\": 7455,\n        \"min\": 0,\n        \"max\": 99999,\n        \"num_unique_values\": 123,\n        \"samples\": [\n          2176,\n          10520\n        ],\n        \"semantic_type\": \"\",\n        \"description\": \"\"\n      }\n    },\n    {\n      \"column\": \"capital-loss\",\n      \"properties\": {\n        \"dtype\": \"number\",\n        \"std\": 403,\n        \"min\": 0,\n        \"max\": 4356,\n        \"num_unique_values\": 99,\n        \"samples\": [\n          1974,\n          419\n        ],\n        \"semantic_type\": \"\",\n        \"description\": \"\"\n      }\n    },\n    {\n      \"column\": \"hours-per-week\",\n      \"properties\": {\n        \"dtype\": \"number\",\n        \"std\": 12,\n        \"min\": 1,\n        \"max\": 99,\n        \"num_unique_values\": 96,\n        \"samples\": [\n          97,\n          88\n        ],\n        \"semantic_type\": \"\",\n        \"description\": \"\"\n      }\n    },\n    {\n      \"column\": \"native-country\",\n      \"properties\": {\n        \"dtype\": \"category\",\n        \"num_unique_values\": 41,\n        \"samples\": [\n          \"El-Salvador\",\n          \"Italy\"\n        ],\n        \"semantic_type\": \"\",\n        \"description\": \"\"\n      }\n    },\n    {\n      \"column\": \"income\",\n      \"properties\": {\n        \"dtype\": \"category\",\n        \"num_unique_values\": 2,\n        \"samples\": [\n          \">50K\",\n          \"<=50K\"\n        ],\n        \"semantic_type\": \"\",\n        \"description\": \"\"\n      }\n    }\n  ]\n}"
            }
          },
          "metadata": {},
          "execution_count": 583
        }
      ]
    },
    {
      "cell_type": "markdown",
      "source": [
        "Visualize distribution of target variable (Income)"
      ],
      "metadata": {
        "id": "AF9VTZ2hG8RI"
      }
    },
    {
      "cell_type": "code",
      "source": [
        "plt.figure(figsize=(6, 4))\n",
        "sns.countplot(x='income', data=df)\n",
        "plt.title('Distribution of Income')\n",
        "plt.show()"
      ],
      "metadata": {
        "colab": {
          "base_uri": "https://localhost:8080/",
          "height": 410
        },
        "id": "vByRi1AIHCPB",
        "outputId": "69695d34-462a-4c65-c6df-bc58838fec2a"
      },
      "execution_count": 584,
      "outputs": [
        {
          "output_type": "display_data",
          "data": {
            "text/plain": [
              "<Figure size 600x400 with 1 Axes>"
            ],
            "image/png": "[encoded data removed]"
          },
          "metadata": {}
        }
      ]
    },
    {
      "cell_type": "markdown",
      "source": [
        "Visualize distribution of numerical features"
      ],
      "metadata": {
        "id": "1sZCfsQXHIqj"
      }
    },
    {
      "cell_type": "code",
      "source": [
        "numeric_features = df.select_dtypes(include=[np.number]).columns.tolist()\n",
        "df[numeric_features].hist(figsize=(12, 10), bins=20)\n",
        "plt.suptitle('Distribution of Numerical Features')\n",
        "plt.show()"
      ],
      "metadata": {
        "colab": {
          "base_uri": "https://localhost:8080/",
          "height": 599
        },
        "id": "HAEEtzIFHMXb",
        "outputId": "e5ca14a5-e7d7-42bd-cb2c-aca3555f1fbe"
      },
      "execution_count": 585,
      "outputs": [
        {
          "output_type": "display_data",
          "data": {
            "text/plain": [
              "<Figure size 1200x1000 with 6 Axes>"
            ],
            "image/png": "[encoded data removed]"
          },
          "metadata": {}
        }
      ]
    },
    {
      "cell_type": "markdown",
      "source": [
        "Visualize relationship between numerical features and target"
      ],
      "metadata": {
        "id": "Jx5BK2rOHVQO"
      }
    },
    {
      "cell_type": "code",
      "source": [
        "plt.figure(figsize=(12, 6))\n",
        "numeric_features = df.select_dtypes(include=[np.number]).columns.tolist()\n",
        "for i, feature in enumerate(numeric_features):\n",
        "    plt.subplot(2, 3, i+1)\n",
        "    sns.boxplot(x='income', y=feature, data=df)\n",
        "    plt.title(f'{feature} vs. Income')\n",
        "plt.tight_layout()\n",
        "plt.show()"
      ],
      "metadata": {
        "colab": {
          "base_uri": "https://localhost:8080/",
          "height": 337
        },
        "id": "p9ZEobBWHP1t",
        "outputId": "af3bd71c-4450-4135-f856-e2959dfe92cb"
      },
      "execution_count": 586,
      "outputs": [
        {
          "output_type": "display_data",
          "data": {
            "text/plain": [
              "<Figure size 1200x600 with 6 Axes>"
            ],
            "image/png": "[encoded data removed]"
          },
          "metadata": {}
        }
      ]
    },
    {
      "cell_type": "code",
      "source": [
        "# Create box plot for capital-gain grouped by income\n",
        "plt.figure(figsize=(8, 6))\n",
        "sns.boxplot(x='income', y='capital-gain', data=df)\n",
        "plt.title('Capital Gain vs. Income')\n",
        "plt.show()"
      ],
      "metadata": {
        "colab": {
          "base_uri": "https://localhost:8080/",
          "height": 506
        },
        "id": "DDbGKVWHeaH1",
        "outputId": "bb6ee55b-e46e-43fe-d588-0539386e93dc"
      },
      "execution_count": 587,
      "outputs": [
        {
          "output_type": "display_data",
          "data": {
            "text/plain": [
              "<Figure size 800x600 with 1 Axes>"
            ],
            "image/png": "[encoded data removed]"
          },
          "metadata": {}
        }
      ]
    },
    {
      "cell_type": "markdown",
      "source": [
        "Handle outlier of the capital-gain"
      ],
      "metadata": {
        "id": "_3VZI5qH_7h1"
      }
    },
    {
      "cell_type": "code",
      "source": [
        "print(\"Before Clipping:\")\n",
        "print(df['capital-gain'].describe())\n",
        "\n",
        "# Define lower and upper bounds for clipping\n",
        "lower_bound = df['capital-gain'].quantile(0.0)\n",
        "upper_bound = df['capital-gain'].quantile(0.97)\n",
        "\n",
        "# Clip the values of 'capital-gain' column\n",
        "df['capital-gain'] = df['capital-gain'].clip(lower=lower_bound, upper=upper_bound)\n",
        "\n",
        "# Verify the changes\n",
        "print(\"after Clipping:\")\n",
        "print(df['capital-gain'].describe())"
      ],
      "metadata": {
        "colab": {
          "base_uri": "https://localhost:8080/"
        },
        "id": "UzebrdZWA3Or",
        "outputId": "8129f87f-955b-49dd-df2f-5f5656295c71"
      },
      "execution_count": 588,
      "outputs": [
        {
          "output_type": "stream",
          "name": "stdout",
          "text": [
            "Before Clipping:\n",
            "count    48789.000000\n",
            "mean      1080.239829\n",
            "std       7455.980728\n",
            "min          0.000000\n",
            "25%          0.000000\n",
            "50%          0.000000\n",
            "75%          0.000000\n",
            "max      99999.000000\n",
            "Name: capital-gain, dtype: float64\n",
            "after Clipping:\n",
            "count    48789.000000\n",
            "mean       464.402734\n",
            "std       1679.685698\n",
            "min          0.000000\n",
            "25%          0.000000\n",
            "50%          0.000000\n",
            "75%          0.000000\n",
            "max       7688.000000\n",
            "Name: capital-gain, dtype: float64\n"
          ]
        }
      ]
    },
    {
      "cell_type": "code",
      "source": [
        "# Create box plot for capital-gain grouped by income\n",
        "plt.figure(figsize=(8, 6))\n",
        "sns.boxplot(x='income', y='capital-gain', data=df)\n",
        "plt.title('Capital Gain vs. Income')\n",
        "plt.show()"
      ],
      "metadata": {
        "colab": {
          "base_uri": "https://localhost:8080/",
          "height": 518
        },
        "id": "jRk7lDzYApX-",
        "outputId": "efbe8d65-4b6f-49a6-f29e-33d296ce1aa5"
      },
      "execution_count": 589,
      "outputs": [
        {
          "output_type": "display_data",
          "data": {
            "text/plain": [
              "<Figure size 800x600 with 1 Axes>"
            ],
            "image/png": "[encoded data removed]"
          },
          "metadata": {}
        }
      ]
    },
    {
      "cell_type": "markdown",
      "source": [
        "Visualize relationship between categorical features and target"
      ],
      "metadata": {
        "id": "gSxO-pSjHXKI"
      }
    },
    {
      "cell_type": "code",
      "source": [
        "plt.figure(figsize=(20, 18))\n",
        "for i, feature in enumerate(df.select_dtypes(include=['object']).columns.tolist()):\n",
        "    plt.subplot(4, 4, i+1)\n",
        "    sns.countplot(x=feature, hue='income', data=df)\n",
        "    plt.title(f'{feature} vs. Income')\n",
        "    plt.xticks(rotation=45)\n",
        "plt.tight_layout()\n",
        "plt.show()"
      ],
      "metadata": {
        "id": "Hq0vwAOKHci9"
      },
      "execution_count": null,
      "outputs": []
    },
    {
      "cell_type": "code",
      "source": [
        "print (df[df.duplicated()])"
      ],
      "metadata": {
        "id": "ggAYYq35UGqS"
      },
      "execution_count": null,
      "outputs": []
    },
    {
      "cell_type": "markdown",
      "source": [
        "Dropping Unnessasary columns"
      ],
      "metadata": {
        "id": "Y-3k0tdmfopP"
      }
    },
    {
      "cell_type": "code",
      "source": [
        "df.drop(columns=['fnlwgt', 'education'], inplace=True)"
      ],
      "metadata": {
        "id": "S0gESK85fsuX"
      },
      "execution_count": null,
      "outputs": []
    },
    {
      "cell_type": "markdown",
      "source": [
        "update the value of numeric_features. cuz fnlwgt was removed from the datset"
      ],
      "metadata": {
        "id": "NhvlyGfqkIZZ"
      }
    },
    {
      "cell_type": "code",
      "source": [
        "df.shape"
      ],
      "metadata": {
        "id": "dI00BBgpkzW3"
      },
      "execution_count": null,
      "outputs": []
    },
    {
      "cell_type": "code",
      "source": [
        "# find duplicate values in the dataset\n",
        "print (df[df.duplicated()])"
      ],
      "metadata": {
        "id": "I9h56lZbjrzH"
      },
      "execution_count": null,
      "outputs": []
    },
    {
      "cell_type": "code",
      "source": [
        "# drop duplicates\n",
        "df = df.drop_duplicates()\n",
        "\n",
        "# find duplicate values in the dataset\n",
        "print (df[df.duplicated()])"
      ],
      "metadata": {
        "id": "TQ9kMBDRkpgj"
      },
      "execution_count": null,
      "outputs": []
    },
    {
      "cell_type": "code",
      "source": [
        "df.shape"
      ],
      "metadata": {
        "id": "0-CrcCqGk00U"
      },
      "execution_count": null,
      "outputs": []
    },
    {
      "cell_type": "markdown",
      "source": [
        "### Categorizing - new dataframe\n",
        "(df_with_categories)"
      ],
      "metadata": {
        "id": "eFLC9QKUfuCr"
      }
    },
    {
      "cell_type": "code",
      "source": [
        "df_with_categories = df.copy()\n",
        "df_with_categories.drop(columns=['native-country', 'occupation'], inplace=True)"
      ],
      "metadata": {
        "id": "9grru_tI97TF"
      },
      "execution_count": null,
      "outputs": []
    },
    {
      "cell_type": "code",
      "source": [
        "df['native-country'].value_counts()"
      ],
      "metadata": {
        "id": "x-168EFvMob4"
      },
      "execution_count": null,
      "outputs": []
    },
    {
      "cell_type": "code",
      "source": [
        "# Define mapping for broader country categories\n",
        "country_mapping = {\n",
        "    'United-States': 'North America',\n",
        "    'Mexico': 'North America',\n",
        "    'Canada': 'North America',\n",
        "    'Puerto-Rico': 'North America',\n",
        "    'El-Salvador': 'North America',\n",
        "    'Dominican-Republic': 'North America',\n",
        "    'Jamaica': 'North America',\n",
        "    'Cuba': 'North America',\n",
        "    'Guatemala': 'North America',\n",
        "    'Honduras': 'North America',\n",
        "    'Philippines': 'Asia',\n",
        "    'India': 'Asia',\n",
        "    'China': 'Asia',\n",
        "    'Japan': 'Asia',\n",
        "    'Vietnam': 'Asia',\n",
        "    'Taiwan': 'Asia',\n",
        "    'Iran': 'Asia',\n",
        "    'Thailand': 'Asia',\n",
        "    'Hong': 'Asia',\n",
        "    'Cambodia': 'Asia',\n",
        "    'Laos': 'Asia',\n",
        "    'Germany': 'Europe',\n",
        "    'England': 'Europe',\n",
        "    'Italy': 'Europe',\n",
        "    'Poland': 'Europe',\n",
        "    'Greece': 'Europe',\n",
        "    'Portugal': 'Europe',\n",
        "    'France': 'Europe',\n",
        "    'Ireland': 'Europe',\n",
        "    'Scotland': 'Europe',\n",
        "    'Hungary': 'Europe',\n",
        "    'Yugoslavia': 'Europe',\n",
        "    'South': 'Latin America & Caribbean',\n",
        "    'Columbia': 'Latin America & Caribbean',\n",
        "    'Haiti': 'Latin America & Caribbean',\n",
        "    'Peru': 'Latin America & Caribbean',\n",
        "    'Ecuador': 'Latin America & Caribbean',\n",
        "    'Trinadad&Tobago': 'Latin America & Caribbean',\n",
        "    'Nicaragua': 'Latin America & Caribbean',\n",
        "    'Outlying-US(Guam-USVI-etc)': 'Others',\n",
        "    'Holand-Netherlands': 'Others',\n",
        "}\n",
        "\n",
        "# Replace specific country names with broader category names\n",
        "df_with_categories['country-category'] = df['native-country'].replace(country_mapping)\n",
        "\n",
        "# Verify the changes\n",
        "print(df_with_categories['country-category'].value_counts())"
      ],
      "metadata": {
        "id": "gc2AtKGSQvU0"
      },
      "execution_count": null,
      "outputs": []
    },
    {
      "cell_type": "code",
      "source": [
        "df['occupation'].value_counts()"
      ],
      "metadata": {
        "id": "MKpA36uUM0Du"
      },
      "execution_count": null,
      "outputs": []
    },
    {
      "cell_type": "code",
      "source": [
        "# Define mapping for broader occupation categories\n",
        "occupation_mapping = {\n",
        "    'Prof-specialty': 'White-Collar Jobs',\n",
        "    'Exec-managerial': 'White-Collar Jobs',\n",
        "    'Adm-clerical': 'White-Collar Jobs',\n",
        "    'Tech-support': 'White-Collar Jobs',\n",
        "    'Craft-repair': 'Blue-Collar Jobs',\n",
        "    'Machine-op-inspct': 'Blue-Collar Jobs',\n",
        "    'Transport-moving': 'Blue-Collar Jobs',\n",
        "    'Handlers-cleaners': 'Blue-Collar Jobs',\n",
        "    'Sales': 'Sales & Service Jobs',\n",
        "    'Other-service': 'Sales & Service Jobs',\n",
        "    'Protective-serv': 'Protective & Security Jobs',\n",
        "    'Priv-house-serv': 'Protective & Security Jobs',\n",
        "    'Armed-Forces': 'Protective & Security Jobs',\n",
        "    'Farming-fishing': 'Farming & Fishing Jobs'\n",
        "}\n",
        "\n",
        "# Replace specific occupation names with broader category names\n",
        "df_with_categories['occupation-category'] = df['occupation'].replace(occupation_mapping)\n",
        "\n",
        "# Verify the changes\n",
        "print(df_with_categories['occupation-category'].value_counts())"
      ],
      "metadata": {
        "id": "A0vcdCI-PzcE"
      },
      "execution_count": null,
      "outputs": []
    },
    {
      "cell_type": "code",
      "source": [
        "df.info()"
      ],
      "metadata": {
        "id": "0V9o1oGX5Nhq"
      },
      "execution_count": null,
      "outputs": []
    },
    {
      "cell_type": "code",
      "source": [
        "df.shape"
      ],
      "metadata": {
        "id": "kEtRdxHT4Ii7"
      },
      "execution_count": null,
      "outputs": []
    },
    {
      "cell_type": "code",
      "source": [
        "df['marital-status'].value_counts()"
      ],
      "metadata": {
        "id": "jH4gprkHNwQo"
      },
      "execution_count": null,
      "outputs": []
    },
    {
      "cell_type": "code",
      "source": [
        "df_with_categories.info()"
      ],
      "metadata": {
        "id": "3lKVV_6G8AIt"
      },
      "execution_count": null,
      "outputs": []
    },
    {
      "cell_type": "code",
      "source": [
        "plt.figure(figsize=(20, 18))\n",
        "for i, feature in enumerate(df_with_categories.select_dtypes(include=['object']).columns.tolist()):\n",
        "    plt.subplot(4, 4, i+1)\n",
        "    sns.countplot(x=feature, hue='income', data=df_with_categories)\n",
        "    plt.title(f'{feature} vs. Income')\n",
        "    plt.xticks(rotation=45)\n",
        "plt.tight_layout()\n",
        "plt.show()"
      ],
      "metadata": {
        "id": "b1bPMK-N-1v5"
      },
      "execution_count": null,
      "outputs": []
    },
    {
      "cell_type": "code",
      "source": [
        "plt.figure(figsize=(12, 6))\n",
        "numeric_features = df_with_categories.select_dtypes(include=[np.number]).columns.tolist()\n",
        "for i, feature in enumerate(numeric_features):\n",
        "    plt.subplot(2, 3, i+1)\n",
        "    sns.boxplot(x='income', y=feature, data=df_with_categories)\n",
        "    plt.title(f'{feature} vs. Income')\n",
        "plt.tight_layout()\n",
        "plt.show()"
      ],
      "metadata": {
        "id": "vTFXHG1gAbcK"
      },
      "execution_count": null,
      "outputs": []
    },
    {
      "cell_type": "code",
      "source": [
        "# find duplicate values in the dataset\n",
        "print (df_with_categories[df_with_categories.duplicated()])"
      ],
      "metadata": {
        "id": "9UEh_Ge9nG25"
      },
      "execution_count": null,
      "outputs": []
    },
    {
      "cell_type": "code",
      "source": [
        "df_with_categories.shape"
      ],
      "metadata": {
        "id": "GsWs_XyfnbsY"
      },
      "execution_count": null,
      "outputs": []
    },
    {
      "cell_type": "code",
      "source": [
        "# drop duplicates\n",
        "df_with_categories = df_with_categories.drop_duplicates()\n",
        "\n",
        "# find duplicate values in the dataset\n",
        "print (df_with_categories[df_with_categories.duplicated()])"
      ],
      "metadata": {
        "id": "EqjOxE3snVp5"
      },
      "execution_count": null,
      "outputs": []
    },
    {
      "cell_type": "code",
      "source": [
        "df_with_categories.shape"
      ],
      "metadata": {
        "id": "4PYDeK4znbGK"
      },
      "execution_count": null,
      "outputs": []
    },
    {
      "cell_type": "code",
      "source": [
        "df.info()"
      ],
      "metadata": {
        "id": "H7pSiydipSgB"
      },
      "execution_count": null,
      "outputs": []
    },
    {
      "cell_type": "code",
      "source": [
        "df_with_categories.info()"
      ],
      "metadata": {
        "id": "nZqcKXOvpUXL"
      },
      "execution_count": null,
      "outputs": []
    },
    {
      "cell_type": "code",
      "source": [
        "df.head()"
      ],
      "metadata": {
        "id": "9FmqOqS2vBZJ"
      },
      "execution_count": null,
      "outputs": []
    },
    {
      "cell_type": "code",
      "source": [
        "df_with_categories.head()"
      ],
      "metadata": {
        "id": "fsfkaKMDvIOc"
      },
      "execution_count": null,
      "outputs": []
    },
    {
      "cell_type": "markdown",
      "source": [
        "### Normalize/Scale the Numerical Data for both dataframes"
      ],
      "metadata": {
        "id": "AeOpAiOhueYK"
      }
    },
    {
      "cell_type": "markdown",
      "source": [
        "To ensure numerical features have a similar scale, preventing bias towards features with larger ranges."
      ],
      "metadata": {
        "id": "FsST9uFZulia"
      }
    },
    {
      "cell_type": "code",
      "source": [
        "scaler = StandardScaler()\n",
        "\n",
        "# Apply scaling to numerical features in both DataFrames\n",
        "numerical_features = ['age', 'education-num', 'capital-gain', 'capital-loss', 'hours-per-week']\n",
        "\n",
        "df[numerical_features] = scaler.fit_transform(df[numerical_features])\n",
        "df_with_categories[numerical_features] = scaler.fit_transform(df_with_categories[numerical_features])"
      ],
      "metadata": {
        "id": "v5r3nrKludZf"
      },
      "execution_count": null,
      "outputs": []
    },
    {
      "cell_type": "code",
      "source": [
        "df.head()"
      ],
      "metadata": {
        "id": "pyIjIdH6u90O"
      },
      "execution_count": null,
      "outputs": []
    },
    {
      "cell_type": "code",
      "source": [
        "df_with_categories.head()"
      ],
      "metadata": {
        "id": "mg_NeqXkvNJI"
      },
      "execution_count": null,
      "outputs": []
    },
    {
      "cell_type": "code",
      "source": [
        "df.info()"
      ],
      "metadata": {
        "id": "-Si2bz2Gx0Y5"
      },
      "execution_count": null,
      "outputs": []
    },
    {
      "cell_type": "code",
      "source": [
        "print(\"Missing Values \")\n",
        "df.isna().sum()"
      ],
      "metadata": {
        "id": "tDjtfDHIxC0-"
      },
      "execution_count": null,
      "outputs": []
    },
    {
      "cell_type": "code",
      "source": [
        "print(\"Missing Values \")\n",
        "df_with_categories.isna().sum()"
      ],
      "metadata": {
        "id": "sT91YsKZxEcG"
      },
      "execution_count": null,
      "outputs": []
    },
    {
      "cell_type": "code",
      "source": [
        "df.shape"
      ],
      "metadata": {
        "id": "8uIv7-2PJRRj"
      },
      "execution_count": null,
      "outputs": []
    },
    {
      "cell_type": "code",
      "source": [
        "df_with_categories.shape"
      ],
      "metadata": {
        "id": "kVd10lJ3JSlK"
      },
      "execution_count": null,
      "outputs": []
    },
    {
      "cell_type": "markdown",
      "source": [
        "### Label Encoding for Categorical Features"
      ],
      "metadata": {
        "id": "I0GfjzqLv9Tz"
      }
    },
    {
      "cell_type": "markdown",
      "source": [
        "To convert categorical features into numerical representations for model compatibility."
      ],
      "metadata": {
        "id": "cc0gf5GPwpLQ"
      }
    },
    {
      "cell_type": "code",
      "source": [
        "le = LabelEncoder()\n",
        "\n",
        "# Apply encoding to categorical features in both DataFrames\n",
        "categorical_features1 = ['workclass', 'marital-status', 'occupation', 'relationship', 'race', 'sex', 'native-country']\n",
        "categorical_features2 = ['workclass', 'marital-status', 'occupation-category', 'relationship', 'race', 'sex', 'country-category']\n",
        "\n",
        "for feature in categorical_features1:\n",
        "    df[feature] = le.fit_transform(df[feature])\n",
        "for feature in categorical_features2:\n",
        "    df_with_categories[feature] = le.fit_transform(df_with_categories[feature])"
      ],
      "metadata": {
        "id": "eiznWYULv8Uw"
      },
      "execution_count": null,
      "outputs": []
    },
    {
      "cell_type": "code",
      "source": [
        "df.info()"
      ],
      "metadata": {
        "id": "3o_8AztQxyXk"
      },
      "execution_count": null,
      "outputs": []
    },
    {
      "cell_type": "markdown",
      "source": [
        "The income column shouldn't be an object type for machine learning modeling. In income prediction, we typically want the income to be a numerical value (e.g., integer or float) representing the annual income. Here's why:\n",
        "\n",
        "**Model Compatibility:** Most machine learning models for classification tasks expect numerical features and target variables. Representing income as an object type (text) makes it incompatible with these models.\n",
        "\n",
        "\n",
        "**Loss of Information:** By keeping income as text (e.g., \"<=50K\" or \">50K\"), the model loses valuable information about the actual income amount. It can only learn the relationship between categories, not the specific income values."
      ],
      "metadata": {
        "id": "AZE6jRFB2cap"
      }
    },
    {
      "cell_type": "code",
      "source": [
        "# Create a new binary target variable (0 for <=50K, 1 for >50K)\n",
        "df['income-binary'] = df['income'].map({'<=50K': 0, '>50K': 1})\n",
        "df_with_categories['income-binary'] = df_with_categories['income'].map({'<=50K': 0, '>50K': 1})\n",
        "\n",
        "df.drop(columns=['income'], inplace=True)\n",
        "df_with_categories.drop(columns=['income'], inplace=True)"
      ],
      "metadata": {
        "id": "3IIzy6kv0XD9"
      },
      "execution_count": null,
      "outputs": []
    },
    {
      "cell_type": "code",
      "source": [
        "df.info()"
      ],
      "metadata": {
        "id": "eGSdftyv1JAm"
      },
      "execution_count": null,
      "outputs": []
    },
    {
      "cell_type": "code",
      "source": [
        "sns.heatmap(df.corr())"
      ],
      "metadata": {
        "id": "k9O9uiTZ17XH"
      },
      "execution_count": null,
      "outputs": []
    },
    {
      "cell_type": "code",
      "source": [
        "sns.heatmap(df_with_categories.corr())"
      ],
      "metadata": {
        "id": "jr-HqdxWI7pz"
      },
      "execution_count": null,
      "outputs": []
    },
    {
      "cell_type": "markdown",
      "source": [
        "Check wether the income (target) is balance or not"
      ],
      "metadata": {
        "id": "v7Uxy0N04SXt"
      }
    },
    {
      "cell_type": "code",
      "source": [
        "df.head()"
      ],
      "metadata": {
        "id": "z0vgCy5B5pBn"
      },
      "execution_count": null,
      "outputs": []
    },
    {
      "cell_type": "code",
      "source": [
        "# Check class distribution for df\n",
        "income_counts = df['income-binary'].value_counts()\n",
        "print(income_counts)"
      ],
      "metadata": {
        "id": "sg81KGhR4Pg0"
      },
      "execution_count": null,
      "outputs": []
    },
    {
      "cell_type": "code",
      "source": [
        "# Check class distribution for df_with_categories\n",
        "income_counts_categories = df_with_categories['income-binary'].value_counts()\n",
        "print(income_counts_categories)"
      ],
      "metadata": {
        "id": "BA9RNhRG5UjQ"
      },
      "execution_count": null,
      "outputs": []
    },
    {
      "cell_type": "code",
      "source": [
        "df.shape"
      ],
      "metadata": {
        "id": "UIV1JHaKJLRu"
      },
      "execution_count": null,
      "outputs": []
    },
    {
      "cell_type": "code",
      "source": [
        "df_with_categories.shape"
      ],
      "metadata": {
        "id": "PzYvFhVgJMvR"
      },
      "execution_count": null,
      "outputs": []
    },
    {
      "cell_type": "markdown",
      "source": [
        "Both df and df_with_categories  seem to be imbalanced datasets.\n",
        "\n",
        "Oversampling might introduce bias with duplicated data, while undersampling discards information. SMOTE offers a balance.\n",
        "\n",
        "Consider the trade-offs between complexity and effectiveness. SMOTE might be slightly more complex to implement compared to oversampling but can be more effective."
      ],
      "metadata": {
        "id": "hysWcfGJ7O9K"
      }
    },
    {
      "cell_type": "code",
      "source": [
        "smote = SMOTE()\n",
        "\n",
        "# Apply SMOTE to both DataFrames\n",
        "df, df['income-binary'] = smote.fit_resample(df, df['income-binary'])\n",
        "df_with_categories, df_with_categories['income-binary'] = smote.fit_resample(df_with_categories, df_with_categories['income-binary'])"
      ],
      "metadata": {
        "id": "aoCZWf4P6p6W"
      },
      "execution_count": null,
      "outputs": []
    },
    {
      "cell_type": "markdown",
      "source": [
        "SMOTE: This technique creates synthetic data points for the minority class based on existing data points, increasing its representation without simply copying existing samples"
      ],
      "metadata": {
        "id": "EF83S7Ca7KIu"
      }
    },
    {
      "cell_type": "code",
      "source": [
        "df.shape"
      ],
      "metadata": {
        "id": "li6-A_gCJnfE"
      },
      "execution_count": null,
      "outputs": []
    },
    {
      "cell_type": "code",
      "source": [
        "df_with_categories.shape"
      ],
      "metadata": {
        "id": "dtw9K1n2J3MA"
      },
      "execution_count": null,
      "outputs": []
    },
    {
      "cell_type": "code",
      "source": [
        "df['income-binary'].value_counts()"
      ],
      "metadata": {
        "id": "XfUD8NUe6-ky"
      },
      "execution_count": null,
      "outputs": []
    },
    {
      "cell_type": "code",
      "source": [
        "df_with_categories['income-binary'].value_counts()"
      ],
      "metadata": {
        "id": "8wXQvD0r7AvW"
      },
      "execution_count": null,
      "outputs": []
    },
    {
      "cell_type": "code",
      "source": [
        "# find duplicate values in the dataset\n",
        "print (df[df.duplicated()])"
      ],
      "metadata": {
        "id": "DPPFWQ0uKV2b"
      },
      "execution_count": null,
      "outputs": []
    },
    {
      "cell_type": "code",
      "source": [
        "# find duplicate values in the dataset\n",
        "print (df_with_categories[df_with_categories.duplicated()])"
      ],
      "metadata": {
        "id": "q2Gd3LAGKRiT"
      },
      "execution_count": null,
      "outputs": []
    },
    {
      "cell_type": "code",
      "source": [
        "# drop duplicates\n",
        "df_with_categories = df_with_categories.drop_duplicates()\n",
        "# find duplicate values in the dataset\n",
        "print (df_with_categories[df_with_categories.duplicated()])"
      ],
      "metadata": {
        "id": "mB_u8zlKKp0D"
      },
      "execution_count": null,
      "outputs": []
    },
    {
      "cell_type": "code",
      "source": [
        "df_with_categories.shape"
      ],
      "metadata": {
        "id": "bpyqltQ5KrLk"
      },
      "execution_count": null,
      "outputs": []
    },
    {
      "cell_type": "code",
      "source": [
        "sns.heatmap(df.corr())"
      ],
      "metadata": {
        "id": "FLFWUZOR7thb"
      },
      "execution_count": null,
      "outputs": []
    },
    {
      "cell_type": "code",
      "source": [
        "sns.heatmap(df_with_categories.corr())"
      ],
      "metadata": {
        "id": "awC31i7bI-Hx"
      },
      "execution_count": null,
      "outputs": []
    },
    {
      "cell_type": "code",
      "source": [
        "def create_boxplots(df, title):\n",
        "  numeric_features = df.select_dtypes(include=[np.number]).columns.tolist()\n",
        "  rows, cols = 5, 3  # Define the grid size (2 rows, 3 columns)\n",
        "\n",
        "  fig, axes = plt.subplots(rows, cols, figsize=(15, 10))  # Create the figure and subplots\n",
        "\n",
        "  for i, feature in enumerate(numeric_features):\n",
        "    row, col = divmod(i, cols)  # Calculate row and column indices for each subplot\n",
        "    sns.boxplot(x='income-binary', y=feature, data=df, ax=axes[row, col])  # Create boxplot on each subplot\n",
        "    axes[row, col].set_title(f'{feature} vs. Income')  # Set subplot title\n",
        "\n",
        "  fig.suptitle(title, fontsize=16)  # Add a main title for the entire figure\n",
        "  plt.tight_layout()\n",
        "  plt.show()\n",
        "\n",
        "# Create boxplots for df\n",
        "create_boxplots(df, 'Boxplots for df')"
      ],
      "metadata": {
        "id": "veiRliw972x8"
      },
      "execution_count": null,
      "outputs": []
    },
    {
      "cell_type": "code",
      "source": [
        "# Create boxplots for df_with_categories\n",
        "create_boxplots(df_with_categories, 'Boxplots for df_with_categories')"
      ],
      "metadata": {
        "colab": {
          "base_uri": "https://localhost:8080/",
          "height": 870
        },
        "id": "NfJESIP8DM4k",
        "outputId": "f67a345c-b509-4c43-d79e-5c7f20f2140f"
      },
      "execution_count": 556,
      "outputs": [
        {
          "output_type": "display_data",
          "data": {
            "text/plain": [
              "<Figure size 1500x1000 with 15 Axes>"
            ],
            "image/png": "[encoded data removed]"
          },
          "metadata": {}
        },
        {
          "output_type": "display_data",
          "data": {
            "text/plain": [
              "<Figure size 1500x1000 with 15 Axes>"
            ],
            "image/png": "[encoded data removed]"
          },
          "metadata": {}
        }
      ]
    },
    {
      "cell_type": "code",
      "source": [
        "df.info()"
      ],
      "metadata": {
        "colab": {
          "base_uri": "https://localhost:8080/"
        },
        "id": "oIyaglK8IfR9",
        "outputId": "42257a3e-fa17-40db-9950-80cc186e9459"
      },
      "execution_count": 557,
      "outputs": [
        {
          "output_type": "stream",
          "name": "stdout",
          "text": [
            "<class 'pandas.core.frame.DataFrame'>\n",
            "RangeIndex: 63676 entries, 0 to 63675\n",
            "Data columns (total 13 columns):\n",
            " #   Column          Non-Null Count  Dtype  \n",
            "---  ------          --------------  -----  \n",
            " 0   age             63676 non-null  float64\n",
            " 1   workclass       63676 non-null  int64  \n",
            " 2   education-num   63676 non-null  float64\n",
            " 3   marital-status  63676 non-null  int64  \n",
            " 4   occupation      63676 non-null  int64  \n",
            " 5   relationship    63676 non-null  int64  \n",
            " 6   race            63676 non-null  int64  \n",
            " 7   sex             63676 non-null  int64  \n",
            " 8   capital-gain    63676 non-null  float64\n",
            " 9   capital-loss    63676 non-null  float64\n",
            " 10  hours-per-week  63676 non-null  float64\n",
            " 11  native-country  63676 non-null  int64  \n",
            " 12  income-binary   63676 non-null  int64  \n",
            "dtypes: float64(5), int64(8)\n",
            "memory usage: 6.3 MB\n"
          ]
        }
      ]
    },
    {
      "cell_type": "code",
      "source": [
        "df.shape"
      ],
      "metadata": {
        "colab": {
          "base_uri": "https://localhost:8080/"
        },
        "id": "RcJ_BMIPJA5z",
        "outputId": "72631de3-7c4c-44d8-c360-6a078c3272de"
      },
      "execution_count": 558,
      "outputs": [
        {
          "output_type": "execute_result",
          "data": {
            "text/plain": [
              "(63676, 13)"
            ]
          },
          "metadata": {},
          "execution_count": 558
        }
      ]
    },
    {
      "cell_type": "code",
      "source": [
        "df_with_categories.info()"
      ],
      "metadata": {
        "colab": {
          "base_uri": "https://localhost:8080/"
        },
        "id": "9U2QfgJ_IhCn",
        "outputId": "e6348ef6-eb55-4180-bab9-74a72362e80e"
      },
      "execution_count": 559,
      "outputs": [
        {
          "output_type": "stream",
          "name": "stdout",
          "text": [
            "<class 'pandas.core.frame.DataFrame'>\n",
            "Int64Index: 57367 entries, 0 to 57415\n",
            "Data columns (total 13 columns):\n",
            " #   Column               Non-Null Count  Dtype  \n",
            "---  ------               --------------  -----  \n",
            " 0   age                  57367 non-null  float64\n",
            " 1   workclass            57367 non-null  int64  \n",
            " 2   education-num        57367 non-null  float64\n",
            " 3   marital-status       57367 non-null  int64  \n",
            " 4   relationship         57367 non-null  int64  \n",
            " 5   race                 57367 non-null  int64  \n",
            " 6   sex                  57367 non-null  int64  \n",
            " 7   capital-gain         57367 non-null  float64\n",
            " 8   capital-loss         57367 non-null  float64\n",
            " 9   hours-per-week       57367 non-null  float64\n",
            " 10  country-category     57367 non-null  int64  \n",
            " 11  occupation-category  57367 non-null  int64  \n",
            " 12  income-binary        57367 non-null  int64  \n",
            "dtypes: float64(5), int64(8)\n",
            "memory usage: 6.1 MB\n"
          ]
        }
      ]
    },
    {
      "cell_type": "code",
      "source": [
        "df_with_categories.shape"
      ],
      "metadata": {
        "colab": {
          "base_uri": "https://localhost:8080/"
        },
        "id": "Kz85QWtPJEhk",
        "outputId": "22f09fa9-e416-48d0-b98a-44da573505e6"
      },
      "execution_count": 560,
      "outputs": [
        {
          "output_type": "execute_result",
          "data": {
            "text/plain": [
              "(57367, 13)"
            ]
          },
          "metadata": {},
          "execution_count": 560
        }
      ]
    },
    {
      "cell_type": "markdown",
      "source": [
        "# Split data into training and testing sets"
      ],
      "metadata": {
        "id": "5lc5xjQjEdH7"
      }
    },
    {
      "cell_type": "code",
      "source": [
        "# For df\n",
        "X_train, X_test, y_train, y_test = train_test_split(df.drop('income-binary', axis=1), df['income-binary'], test_size=0.2, random_state=42)\n",
        "\n",
        "# For df_with_categories\n",
        "X_train_cat, X_test_cat, y_train_cat, y_test_cat = train_test_split(df_with_categories.drop('income-binary', axis=1), df_with_categories['income-binary'], test_size=0.2, random_state=42)"
      ],
      "metadata": {
        "id": "Zu3si63zKGs9"
      },
      "execution_count": 561,
      "outputs": []
    },
    {
      "cell_type": "markdown",
      "source": [
        "# Train Naïve Bayes Model"
      ],
      "metadata": {
        "id": "CQlSZ0yDKLhm"
      }
    },
    {
      "cell_type": "markdown",
      "source": [
        "For df"
      ],
      "metadata": {
        "id": "qdjzB-4mKPTJ"
      }
    },
    {
      "cell_type": "code",
      "source": [
        "# Initialize Naïve Bayes classifier\n",
        "naive_bayes = GaussianNB()\n",
        "\n",
        "# Train the model\n",
        "naive_bayes.fit(X_train, y_train)\n",
        "\n",
        "# Predictions on the test set\n",
        "predictions_nb = naive_bayes.predict(X_test)\n",
        "\n",
        "# Evaluate model performance\n",
        "accuracy_nb = accuracy_score(y_test, predictions_nb)\n",
        "print(\"Naïve Bayes Model Accuracy:\", accuracy_nb)\n",
        "print(classification_report(y_test, predictions_nb))"
      ],
      "metadata": {
        "colab": {
          "base_uri": "https://localhost:8080/"
        },
        "id": "ooUlgU2sKKUc",
        "outputId": "948737b8-3c17-4cae-a748-7bc53383ad00"
      },
      "execution_count": 562,
      "outputs": [
        {
          "output_type": "stream",
          "name": "stdout",
          "text": [
            "Naïve Bayes Model Accuracy: 0.7516488693467337\n",
            "              precision    recall  f1-score   support\n",
            "\n",
            "           0       0.71      0.85      0.77      6371\n",
            "           1       0.81      0.66      0.73      6365\n",
            "\n",
            "    accuracy                           0.75     12736\n",
            "   macro avg       0.76      0.75      0.75     12736\n",
            "weighted avg       0.76      0.75      0.75     12736\n",
            "\n"
          ]
        }
      ]
    },
    {
      "cell_type": "markdown",
      "source": [
        "For df_with_categories"
      ],
      "metadata": {
        "id": "IdgoOajXKltc"
      }
    },
    {
      "cell_type": "code",
      "source": [
        "naive_bayes_cat = GaussianNB()\n",
        "naive_bayes_cat.fit(X_train_cat, y_train_cat)\n",
        "predictions_nb_cat = naive_bayes_cat.predict(X_test_cat)\n",
        "accuracy_nb_cat = accuracy_score(y_test_cat, predictions_nb_cat)\n",
        "print(\"Naïve Bayes Model Accuracy (with categories):\", accuracy_nb_cat)\n",
        "print(classification_report(y_test_cat, predictions_nb_cat))"
      ],
      "metadata": {
        "colab": {
          "base_uri": "https://localhost:8080/"
        },
        "id": "Gg30Rn77Kf6R",
        "outputId": "3e1ff52e-84c0-440c-e66f-ecb638454448"
      },
      "execution_count": 563,
      "outputs": [
        {
          "output_type": "stream",
          "name": "stdout",
          "text": [
            "Naïve Bayes Model Accuracy (with categories): 0.7520481087676486\n",
            "              precision    recall  f1-score   support\n",
            "\n",
            "           0       0.71      0.86      0.77      5691\n",
            "           1       0.82      0.65      0.73      5783\n",
            "\n",
            "    accuracy                           0.75     11474\n",
            "   macro avg       0.76      0.75      0.75     11474\n",
            "weighted avg       0.76      0.75      0.75     11474\n",
            "\n"
          ]
        }
      ]
    },
    {
      "cell_type": "markdown",
      "source": [
        "# Train Random Forest Model"
      ],
      "metadata": {
        "id": "UoZDyXNBKycf"
      }
    },
    {
      "cell_type": "markdown",
      "source": [
        "For df"
      ],
      "metadata": {
        "id": "V2epJwVTK0c_"
      }
    },
    {
      "cell_type": "code",
      "source": [
        "# Initialize Random Forest classifier\n",
        "random_forest = RandomForestClassifier(random_state=42)\n",
        "\n",
        "# Train the model\n",
        "random_forest.fit(X_train, y_train)\n",
        "\n",
        "# Predictions on the test set\n",
        "predictions_rf = random_forest.predict(X_test)\n",
        "\n",
        "# Evaluate model performance\n",
        "accuracy_rf = accuracy_score(y_test, predictions_rf)\n",
        "print(\"Random Forest Model Accuracy:\", accuracy_rf)\n",
        "print(classification_report(y_test, predictions_rf))"
      ],
      "metadata": {
        "id": "Uh17VN-eK1j6"
      },
      "execution_count": null,
      "outputs": []
    },
    {
      "cell_type": "markdown",
      "source": [
        "For df_with_categories"
      ],
      "metadata": {
        "id": "gBdOveDCK5t-"
      }
    },
    {
      "cell_type": "code",
      "source": [
        "random_forest_cat = RandomForestClassifier(random_state=42)\n",
        "random_forest_cat.fit(X_train_cat, y_train_cat)\n",
        "predictions_rf_cat = random_forest_cat.predict(X_test_cat)\n",
        "accuracy_rf_cat = accuracy_score(y_test_cat, predictions_rf_cat)\n",
        "print(\"Random Forest Model Accuracy (with categories):\", accuracy_rf_cat)\n",
        "print(classification_report(y_test_cat, predictions_rf_cat))"
      ],
      "metadata": {
        "id": "UL6omhjBK3-r"
      },
      "execution_count": null,
      "outputs": []
    },
    {
      "cell_type": "markdown",
      "source": [
        "For df"
      ],
      "metadata": {
        "id": "O1QkjmuHQcTb"
      }
    },
    {
      "cell_type": "code",
      "source": [
        "print (\"For df\")\n",
        "# Split data into training, validation, and test sets\n",
        "X_train, X_val, y_train, y_val = train_test_split(df.drop('income-binary', axis=1), df['income-binary'], test_size=0.2, random_state=42)\n",
        "X_test, X_val, y_test, y_val = train_test_split(X_val, y_val, test_size=0.5, random_state=42)\n",
        "\n",
        "# Train the Random Forest model on training data\n",
        "random_forest = RandomForestClassifier(random_state=42)\n",
        "random_forest.fit(X_train, y_train)\n",
        "\n",
        "# Evaluate on training set\n",
        "train_predictions = random_forest.predict(X_train)\n",
        "train_accuracy = accuracy_score(y_train, train_predictions)\n",
        "\n",
        "# Evaluate on validation set\n",
        "val_predictions = random_forest.predict(X_val)\n",
        "val_accuracy = accuracy_score(y_val, val_predictions)\n",
        "\n",
        "# Compare performance\n",
        "print(\"Training Accuracy:\", train_accuracy)\n",
        "print(\"Validation Accuracy:\", val_accuracy)\n",
        "\n",
        "# Evaluate on test set\n",
        "test_predictions = random_forest.predict(X_test)\n",
        "test_accuracy = accuracy_score(y_test, test_predictions)\n",
        "print(\"Test Accuracy:\", test_accuracy)\n"
      ],
      "metadata": {
        "id": "WHMbLzmlOxNq"
      },
      "execution_count": null,
      "outputs": []
    },
    {
      "cell_type": "markdown",
      "source": [
        "Mitigate overfiiting"
      ],
      "metadata": {
        "id": "RGULvntrWF-z"
      }
    },
    {
      "cell_type": "code",
      "source": [
        "print (\"For df\")\n",
        "# Split data into training, validation, and test sets\n",
        "X_train, X_val, y_train, y_val = train_test_split(df.drop('income-binary', axis=1), df['income-binary'], test_size=0.2, random_state=42)\n",
        "X_test, X_val, y_test, y_val = train_test_split(X_val, y_val, test_size=0.5, random_state=42)\n",
        "\n",
        "# Train the Random Forest model on training data with adjusted hyperparameters\n",
        "random_forest = RandomForestClassifier(n_estimators=100, max_depth=10, min_samples_split=10, random_state=42)\n",
        "random_forest.fit(X_train, y_train)\n",
        "\n",
        "# Evaluate on training set\n",
        "train_predictions = random_forest.predict(X_train)\n",
        "train_accuracy = accuracy_score(y_train, train_predictions)\n",
        "\n",
        "# Evaluate on validation set\n",
        "val_predictions = random_forest.predict(X_val)\n",
        "val_accuracy = accuracy_score(y_val, val_predictions)\n",
        "\n",
        "# Compare performance\n",
        "print(\"Training Accuracy:\", train_accuracy)\n",
        "print(\"Validation Accuracy:\", val_accuracy)\n",
        "\n",
        "# Evaluate on test set\n",
        "test_predictions = random_forest.predict(X_test)\n",
        "test_accuracy = accuracy_score(y_test, test_predictions)\n",
        "print(\"Test Accuracy:\", test_accuracy)"
      ],
      "metadata": {
        "id": "zAVxrMFOVxlp"
      },
      "execution_count": null,
      "outputs": []
    },
    {
      "cell_type": "code",
      "source": [
        "# Train the Naïve Bayes model on training data\n",
        "naive_bayes = GaussianNB()\n",
        "naive_bayes.fit(X_train, y_train)\n",
        "\n",
        "# Evaluate on training set\n",
        "train_predictions_nb = naive_bayes.predict(X_train)\n",
        "train_accuracy_nb = accuracy_score(y_train, train_predictions_nb)\n",
        "\n",
        "# Evaluate on validation set\n",
        "val_predictions_nb = naive_bayes.predict(X_val)\n",
        "val_accuracy_nb = accuracy_score(y_val, val_predictions_nb)\n",
        "\n",
        "# Compare performance\n",
        "print(\"Training Accuracy (Naïve Bayes):\", train_accuracy_nb)\n",
        "print(\"Validation Accuracy (Naïve Bayes):\", val_accuracy_nb)\n",
        "\n",
        "# Evaluate on test set\n",
        "test_predictions_nb = naive_bayes.predict(X_test)\n",
        "test_accuracy_nb = accuracy_score(y_test, test_predictions_nb)\n",
        "print(\"Test Accuracy (Naïve Bayes):\", test_accuracy_nb)"
      ],
      "metadata": {
        "id": "ML37nBY0P2_C"
      },
      "execution_count": null,
      "outputs": []
    },
    {
      "cell_type": "markdown",
      "source": [
        "For df_with_categories"
      ],
      "metadata": {
        "id": "We0yXD-NQgwx"
      }
    },
    {
      "cell_type": "code",
      "source": [
        "print(\"For df_with_categories\")\n",
        "# Split data into training, validation, and test sets\n",
        "X_train_cat, X_val_cat, y_train_cat, y_val_cat = train_test_split(df_with_categories.drop('income-binary', axis=1), df_with_categories['income-binary'], test_size=0.2, random_state=42)\n",
        "X_test_cat, X_val_cat, y_test_cat, y_val_cat = train_test_split(X_val_cat, y_val_cat, test_size=0.5, random_state=42)\n",
        "\n",
        "# Train the Random Forest model on training data\n",
        "random_forest_cat = RandomForestClassifier(random_state=42)\n",
        "random_forest_cat.fit(X_train_cat, y_train_cat)\n",
        "\n",
        "# Evaluate on training set\n",
        "train_predictions_cat = random_forest_cat.predict(X_train_cat)\n",
        "train_accuracy_cat = accuracy_score(y_train_cat, train_predictions_cat)\n",
        "\n",
        "# Evaluate on validation set\n",
        "val_predictions_cat = random_forest_cat.predict(X_val_cat)\n",
        "val_accuracy_cat = accuracy_score(y_val_cat, val_predictions_cat)\n",
        "\n",
        "# Compare performance\n",
        "print(\"Training Accuracy (with categories):\", train_accuracy_cat)\n",
        "print(\"Validation Accuracy (with categories):\", val_accuracy_cat)\n",
        "\n",
        "# Evaluate on test set\n",
        "test_predictions_cat = random_forest_cat.predict(X_test_cat)\n",
        "test_accuracy_cat = accuracy_score(y_test_cat, test_predictions_cat)\n",
        "print(\"Test Accuracy (with categories):\", test_accuracy_cat)\n"
      ],
      "metadata": {
        "id": "M1lR-lqBPLqW"
      },
      "execution_count": null,
      "outputs": []
    },
    {
      "cell_type": "code",
      "source": [
        "# Train the Naïve Bayes model on training data with categories\n",
        "naive_bayes_cat = GaussianNB()\n",
        "naive_bayes_cat.fit(X_train_cat, y_train_cat)\n",
        "\n",
        "# Evaluate on training set\n",
        "train_predictions_nb_cat = naive_bayes_cat.predict(X_train_cat)\n",
        "train_accuracy_nb_cat = accuracy_score(y_train_cat, train_predictions_nb_cat)\n",
        "\n",
        "# Evaluate on validation set\n",
        "val_predictions_nb_cat = naive_bayes_cat.predict(X_val_cat)\n",
        "val_accuracy_nb_cat = accuracy_score(y_val_cat, val_predictions_nb_cat)\n",
        "\n",
        "# Compare performance\n",
        "print(\"Training Accuracy (Naïve Bayes with categories):\", train_accuracy_nb_cat)\n",
        "print(\"Validation Accuracy (Naïve Bayes with categories):\", val_accuracy_nb_cat)\n",
        "\n",
        "# Evaluate on test set\n",
        "test_predictions_nb_cat = naive_bayes_cat.predict(X_test_cat)\n",
        "test_accuracy_nb_cat = accuracy_score(y_test_cat, test_predictions_nb_cat)\n",
        "print(\"Test Accuracy (Naïve Bayes with categories):\", test_accuracy_nb_cat)"
      ],
      "metadata": {
        "id": "eMf-_2__P512"
      },
      "execution_count": null,
      "outputs": []
    }
  ]
}